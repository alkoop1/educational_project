{
 "cells": [
  {
   "cell_type": "markdown",
   "id": "22120e40",
   "metadata": {},
   "source": [
    "Модель прогнозирования стоимости жилья для агентства недвижимости\n",
    "========================================================================================================="
   ]
  },
  {
   "cell_type": "markdown",
   "id": "7764ecca",
   "metadata": {},
   "source": [
    "В этом ноутбуке представлена разработка модели для предсказания стоимости домов на основе истории предложений. Основная задача проекта – помочь агентству недвижимости обойти конкурентов по скорости и качеству проведения сделок за счёт автоматизации анализа объектов.\n",
    "\n",
    "**Проблематика:**  \n",
    "Риелторам агентства требуется слишком много времени на сортировку объявлений и поиск наиболее выгодных предложений, что негативно сказывается на финансовых показателях.\n",
    "\n",
    "**Цели и задачи проекта:**  \n",
    "- Провести детальный анализ данных (EDA) с использованием статистических тестов и визуализации.  \n",
    "- Провести предварительную обработку и очистку данных для повышения качества модели.  \n",
    "- Разработать и протестировать модели прогнозирования стоимости жилья.  \n",
    "- Разработать сервис для интеграции модели в рабочий процесс, обеспечивающий быстрые и точные предсказания.\n",
    "\n",
    "Давайте перейдём к анализу данных и дальнейшей разработке решения!"
   ]
  },
  {
   "cell_type": "markdown",
   "id": "e872ecc8",
   "metadata": {},
   "source": [
    "## Описание данных:\n",
    "\n",
    "| Название столбца               | Содержание информации                                                                                         |\n",
    "|--------------------------------|---------------------------------------------------------------------------------------------------------------|\n",
    "| status                         | Статус продажи                                                                                                |\n",
    "| private pool / PrivatePool     | Наличие собственного бассейна                                                                                 |\n",
    "| propertyType                   | Тип объекта недвижимости                                                                                      |\n",
    "| street                         | Адрес объекта                                                                                                 |\n",
    "| baths                          | Количество ванных комнат                                                                                        |\n",
    "| homeFacts                      | Сведения о строительстве объекта (несколько типов сведений, влияющих на оценку объекта)                         |\n",
    "| fireplace                      | Наличие камина                                                                                                |\n",
    "| city                           | Город                                                                                                         |\n",
    "| schools                        | Сведения о школах в районе                                                                                      |\n",
    "| sqft                           | Площадь в футах                                                                                               |\n",
    "| zipcode                        | Почтовый индекс                                                                                               |\n",
    "| beds                           | Количество спален                                                                                             |\n",
    "| state                          | Штат                                                                                                          |\n",
    "| stories                        | Количество этажей                                                                                             |\n",
    "| mls-id / MlsId                 | Идентификатор MLS (Multiple Listing Service, система мультилистинга)                                            |\n",
    "| target                         | Цена объекта недвижимости (целевой признак, который необходимо спрогнозировать)                               |"
   ]
  },
  {
   "cell_type": "code",
   "execution_count": 1,
   "id": "482b5e5e",
   "metadata": {},
   "outputs": [
    {
     "name": "stderr",
     "output_type": "stream",
     "text": [
      "C:\\Users\\Koop_\\AppData\\Local\\Temp\\ipykernel_16472\\1118506453.py:3: DeprecationWarning: \n",
      "Pyarrow will become a required dependency of pandas in the next major release of pandas (pandas 3.0),\n",
      "(to allow more performant data types, such as the Arrow string type, and better interoperability with other libraries)\n",
      "but was not found to be installed on your system.\n",
      "If this would cause problems for you,\n",
      "please provide us feedback at https://github.com/pandas-dev/pandas/issues/54466\n",
      "        \n",
      "  import pandas as pd\n"
     ]
    }
   ],
   "source": [
    "# Загрузка необходимых библиотек\n",
    "import numpy as np\n",
    "import pandas as pd\n",
    "import time\n",
    "import re\n",
    "import ast"
   ]
  },
  {
   "cell_type": "markdown",
   "id": "663365ae",
   "metadata": {},
   "source": [
    "# Предобратка данных"
   ]
  },
  {
   "cell_type": "markdown",
   "id": "24073b64",
   "metadata": {},
   "source": [
    "## Первичный осмотр данных\n",
    "\n",
    "Посмотрим на данные"
   ]
  },
  {
   "cell_type": "code",
   "execution_count": 2,
   "id": "907c44dd",
   "metadata": {},
   "outputs": [
    {
     "data": {
      "text/html": [
       "<div>\n",
       "<style scoped>\n",
       "    .dataframe tbody tr th:only-of-type {\n",
       "        vertical-align: middle;\n",
       "    }\n",
       "\n",
       "    .dataframe tbody tr th {\n",
       "        vertical-align: top;\n",
       "    }\n",
       "\n",
       "    .dataframe thead th {\n",
       "        text-align: right;\n",
       "    }\n",
       "</style>\n",
       "<table border=\"1\" class=\"dataframe\">\n",
       "  <thead>\n",
       "    <tr style=\"text-align: right;\">\n",
       "      <th></th>\n",
       "      <th>status</th>\n",
       "      <th>private pool</th>\n",
       "      <th>propertyType</th>\n",
       "      <th>street</th>\n",
       "      <th>baths</th>\n",
       "      <th>homeFacts</th>\n",
       "      <th>fireplace</th>\n",
       "      <th>city</th>\n",
       "      <th>schools</th>\n",
       "      <th>sqft</th>\n",
       "      <th>zipcode</th>\n",
       "      <th>beds</th>\n",
       "      <th>state</th>\n",
       "      <th>stories</th>\n",
       "      <th>mls-id</th>\n",
       "      <th>PrivatePool</th>\n",
       "      <th>MlsId</th>\n",
       "      <th>target</th>\n",
       "    </tr>\n",
       "  </thead>\n",
       "  <tbody>\n",
       "    <tr>\n",
       "      <th>0</th>\n",
       "      <td>Active</td>\n",
       "      <td>NaN</td>\n",
       "      <td>Single Family Home</td>\n",
       "      <td>240 Heather Ln</td>\n",
       "      <td>3.5</td>\n",
       "      <td>{'atAGlanceFacts': [{'factValue': '2019', 'fac...</td>\n",
       "      <td>Gas Logs</td>\n",
       "      <td>Southern Pines</td>\n",
       "      <td>[{'rating': ['4', '4', '7', 'NR', '4', '7', 'N...</td>\n",
       "      <td>2900</td>\n",
       "      <td>28387</td>\n",
       "      <td>4</td>\n",
       "      <td>NC</td>\n",
       "      <td>NaN</td>\n",
       "      <td>NaN</td>\n",
       "      <td>NaN</td>\n",
       "      <td>611019</td>\n",
       "      <td>$418,000</td>\n",
       "    </tr>\n",
       "    <tr>\n",
       "      <th>1</th>\n",
       "      <td>for sale</td>\n",
       "      <td>NaN</td>\n",
       "      <td>single-family home</td>\n",
       "      <td>12911 E Heroy Ave</td>\n",
       "      <td>3 Baths</td>\n",
       "      <td>{'atAGlanceFacts': [{'factValue': '2019', 'fac...</td>\n",
       "      <td>NaN</td>\n",
       "      <td>Spokane Valley</td>\n",
       "      <td>[{'rating': ['4/10', 'None/10', '4/10'], 'data...</td>\n",
       "      <td>1,947 sqft</td>\n",
       "      <td>99216</td>\n",
       "      <td>3 Beds</td>\n",
       "      <td>WA</td>\n",
       "      <td>2.0</td>\n",
       "      <td>NaN</td>\n",
       "      <td>NaN</td>\n",
       "      <td>201916904</td>\n",
       "      <td>$310,000</td>\n",
       "    </tr>\n",
       "    <tr>\n",
       "      <th>2</th>\n",
       "      <td>for sale</td>\n",
       "      <td>NaN</td>\n",
       "      <td>single-family home</td>\n",
       "      <td>2005 Westridge Rd</td>\n",
       "      <td>2 Baths</td>\n",
       "      <td>{'atAGlanceFacts': [{'factValue': '1961', 'fac...</td>\n",
       "      <td>yes</td>\n",
       "      <td>Los Angeles</td>\n",
       "      <td>[{'rating': ['8/10', '4/10', '8/10'], 'data': ...</td>\n",
       "      <td>3,000 sqft</td>\n",
       "      <td>90049</td>\n",
       "      <td>3 Beds</td>\n",
       "      <td>CA</td>\n",
       "      <td>1.0</td>\n",
       "      <td>NaN</td>\n",
       "      <td>yes</td>\n",
       "      <td>FR19221027</td>\n",
       "      <td>$2,895,000</td>\n",
       "    </tr>\n",
       "    <tr>\n",
       "      <th>3</th>\n",
       "      <td>for sale</td>\n",
       "      <td>NaN</td>\n",
       "      <td>single-family home</td>\n",
       "      <td>4311 Livingston Ave</td>\n",
       "      <td>8 Baths</td>\n",
       "      <td>{'atAGlanceFacts': [{'factValue': '2006', 'fac...</td>\n",
       "      <td>yes</td>\n",
       "      <td>Dallas</td>\n",
       "      <td>[{'rating': ['9/10', '9/10', '10/10', '9/10'],...</td>\n",
       "      <td>6,457 sqft</td>\n",
       "      <td>75205</td>\n",
       "      <td>5 Beds</td>\n",
       "      <td>TX</td>\n",
       "      <td>3.0</td>\n",
       "      <td>NaN</td>\n",
       "      <td>NaN</td>\n",
       "      <td>14191809</td>\n",
       "      <td>$2,395,000</td>\n",
       "    </tr>\n",
       "    <tr>\n",
       "      <th>4</th>\n",
       "      <td>for sale</td>\n",
       "      <td>NaN</td>\n",
       "      <td>lot/land</td>\n",
       "      <td>1524 Kiscoe St</td>\n",
       "      <td>NaN</td>\n",
       "      <td>{'atAGlanceFacts': [{'factValue': '', 'factLab...</td>\n",
       "      <td>NaN</td>\n",
       "      <td>Palm Bay</td>\n",
       "      <td>[{'rating': ['4/10', '5/10', '5/10'], 'data': ...</td>\n",
       "      <td>NaN</td>\n",
       "      <td>32908</td>\n",
       "      <td>NaN</td>\n",
       "      <td>FL</td>\n",
       "      <td>NaN</td>\n",
       "      <td>NaN</td>\n",
       "      <td>NaN</td>\n",
       "      <td>861745</td>\n",
       "      <td>$5,000</td>\n",
       "    </tr>\n",
       "  </tbody>\n",
       "</table>\n",
       "</div>"
      ],
      "text/plain": [
       "     status private pool        propertyType               street    baths  \\\n",
       "0    Active          NaN  Single Family Home       240 Heather Ln      3.5   \n",
       "1  for sale          NaN  single-family home    12911 E Heroy Ave  3 Baths   \n",
       "2  for sale          NaN  single-family home    2005 Westridge Rd  2 Baths   \n",
       "3  for sale          NaN  single-family home  4311 Livingston Ave  8 Baths   \n",
       "4  for sale          NaN            lot/land       1524 Kiscoe St      NaN   \n",
       "\n",
       "                                           homeFacts fireplace  \\\n",
       "0  {'atAGlanceFacts': [{'factValue': '2019', 'fac...  Gas Logs   \n",
       "1  {'atAGlanceFacts': [{'factValue': '2019', 'fac...       NaN   \n",
       "2  {'atAGlanceFacts': [{'factValue': '1961', 'fac...       yes   \n",
       "3  {'atAGlanceFacts': [{'factValue': '2006', 'fac...       yes   \n",
       "4  {'atAGlanceFacts': [{'factValue': '', 'factLab...       NaN   \n",
       "\n",
       "             city                                            schools  \\\n",
       "0  Southern Pines  [{'rating': ['4', '4', '7', 'NR', '4', '7', 'N...   \n",
       "1  Spokane Valley  [{'rating': ['4/10', 'None/10', '4/10'], 'data...   \n",
       "2     Los Angeles  [{'rating': ['8/10', '4/10', '8/10'], 'data': ...   \n",
       "3          Dallas  [{'rating': ['9/10', '9/10', '10/10', '9/10'],...   \n",
       "4        Palm Bay  [{'rating': ['4/10', '5/10', '5/10'], 'data': ...   \n",
       "\n",
       "         sqft zipcode    beds state stories mls-id PrivatePool       MlsId  \\\n",
       "0        2900   28387       4    NC     NaN    NaN         NaN      611019   \n",
       "1  1,947 sqft   99216  3 Beds    WA     2.0    NaN         NaN   201916904   \n",
       "2  3,000 sqft   90049  3 Beds    CA     1.0    NaN         yes  FR19221027   \n",
       "3  6,457 sqft   75205  5 Beds    TX     3.0    NaN         NaN    14191809   \n",
       "4         NaN   32908     NaN    FL     NaN    NaN         NaN      861745   \n",
       "\n",
       "       target  \n",
       "0    $418,000  \n",
       "1    $310,000  \n",
       "2  $2,895,000  \n",
       "3  $2,395,000  \n",
       "4      $5,000  "
      ]
     },
     "metadata": {},
     "output_type": "display_data"
    },
    {
     "name": "stdout",
     "output_type": "stream",
     "text": [
      "<class 'pandas.core.frame.DataFrame'>\n",
      "RangeIndex: 377185 entries, 0 to 377184\n",
      "Data columns (total 18 columns):\n",
      " #   Column        Non-Null Count   Dtype \n",
      "---  ------        --------------   ----- \n",
      " 0   status        337267 non-null  object\n",
      " 1   private pool  4181 non-null    object\n",
      " 2   propertyType  342452 non-null  object\n",
      " 3   street        377183 non-null  object\n",
      " 4   baths         270847 non-null  object\n",
      " 5   homeFacts     377185 non-null  object\n",
      " 6   fireplace     103114 non-null  object\n",
      " 7   city          377151 non-null  object\n",
      " 8   schools       377185 non-null  object\n",
      " 9   sqft          336608 non-null  object\n",
      " 10  zipcode       377185 non-null  object\n",
      " 11  beds          285903 non-null  object\n",
      " 12  state         377185 non-null  object\n",
      " 13  stories       226469 non-null  object\n",
      " 14  mls-id        24942 non-null   object\n",
      " 15  PrivatePool   40311 non-null   object\n",
      " 16  MlsId         310305 non-null  object\n",
      " 17  target        374704 non-null  object\n",
      "dtypes: object(18)\n",
      "memory usage: 51.8+ MB\n"
     ]
    }
   ],
   "source": [
    "data = pd.read_csv('data/data.csv')\n",
    "display(data.head())\n",
    "data.info()"
   ]
  },
  {
   "cell_type": "markdown",
   "id": "8455aae6",
   "metadata": {},
   "source": [
    "Почистим дубликаты в данных"
   ]
  },
  {
   "cell_type": "code",
   "execution_count": 3,
   "id": "21b872b4",
   "metadata": {},
   "outputs": [
    {
     "name": "stdout",
     "output_type": "stream",
     "text": [
      "Удалено 50 дубликатов\n"
     ]
    }
   ],
   "source": [
    "# сохраняем количество строк до удаления дубликатов\n",
    "rows_before = data.shape[0]\n",
    "# удалим дубликаты\n",
    "data = data.drop_duplicates(ignore_index=True)\n",
    "# сохраняем количество строк после удаления дубликатов\n",
    "rows_after = data.shape[0]\n",
    "# считаем количество удаленных дубликатов\n",
    "duplicates_removed = rows_before - rows_after\n",
    "print(f'Удалено {duplicates_removed} дубликатов')"
   ]
  },
  {
   "cell_type": "markdown",
   "id": "eec64c13",
   "metadata": {},
   "source": [
    "## Посмотрим на пропуски в данных"
   ]
  },
  {
   "cell_type": "code",
   "execution_count": 4,
   "id": "50d2e69e",
   "metadata": {},
   "outputs": [
    {
     "name": "stdout",
     "output_type": "stream",
     "text": [
      "Процент пропущенных значений по столбцам:\n",
      "Столбец 'status       ':  10.58% пропусков\n",
      "Столбец 'private pool ':  98.89% пропусков\n",
      "Столбец 'propertyType ':   9.21% пропусков\n",
      "Столбец 'street       ':   0.00% пропусков\n",
      "Столбец 'baths        ':  28.19% пропусков\n",
      "Столбец 'homeFacts    ':   0.00% пропусков\n",
      "Столбец 'fireplace    ':  72.66% пропусков\n",
      "Столбец 'city         ':   0.01% пропусков\n",
      "Столбец 'schools      ':   0.00% пропусков\n",
      "Столбец 'sqft         ':  10.75% пропусков\n",
      "Столбец 'zipcode      ':   0.00% пропусков\n",
      "Столбец 'beds         ':  24.20% пропусков\n",
      "Столбец 'state        ':   0.00% пропусков\n",
      "Столбец 'stories      ':  39.95% пропусков\n",
      "Столбец 'mls-id       ':  93.39% пропусков\n",
      "Столбец 'PrivatePool  ':  89.31% пропусков\n",
      "Столбец 'MlsId        ':  17.73% пропусков\n",
      "Столбец 'target       ':   0.66% пропусков\n"
     ]
    }
   ],
   "source": [
    "# Вычисляем процент пропущенных значений для каждого столбца\n",
    "missing_percentages = data.isnull().mean() * 100\n",
    "# Выводим процент пропусков через цикл\n",
    "print(\"Процент пропущенных значений по столбцам:\")\n",
    "for column, percent in missing_percentages.items():\n",
    "    print(f\"Столбец '{column:13}': {percent:6.2f}% пропусков\")"
   ]
  },
  {
   "cell_type": "code",
   "execution_count": 5,
   "id": "e124e2b3",
   "metadata": {},
   "outputs": [
    {
     "data": {
      "text/plain": [
       "array([nan, 'Yes'], dtype=object)"
      ]
     },
     "metadata": {},
     "output_type": "display_data"
    },
    {
     "data": {
      "text/plain": [
       "array([nan, 'yes', 'Yes'], dtype=object)"
      ]
     },
     "metadata": {},
     "output_type": "display_data"
    }
   ],
   "source": [
    "# посмотрим что содержится в private pool и PrivatePool\n",
    "display(data['private pool'].unique())\n",
    "display(data['PrivatePool'].unique())"
   ]
  },
  {
   "cell_type": "markdown",
   "id": "c367dcd3",
   "metadata": {},
   "source": [
    "Что можно сказать по пропускам в данных:\n",
    "\n",
    "- Столбцы «private pool» (98.89%) и «PrivatePool» (89.31%) практически не заполнены, содержат дублирующую информацию,Предполагаем, что если информация отсутствует, то это означает отсутствие бассейна.\n",
    "- Столбцы 'mls-id' и 'MlsId', поскольку они используются для идентификации объектов и не влияют на модель прогнозирования.\n",
    "- Столбцы «fireplace» (72.66%), «baths» (28.19%) и «stories» (39.95%) также имеют заметный уровень пропусков, что может повлиять на качество модели и потребует продуманного подхода к обработке: заполнение, удаление или специальное кодирование пропусков.\n",
    "- Некоторые столбцы (например, «street», «homeFacts», «schools», «zipcode», «state») практически не содержат пропусков – здесь можно ожидать надёжное качество данных.\n",
    "\n",
    "В целом, анализ показывает, что для оптимальной работы модели потребуется уделить повышенное внимание обработке столбцов с большим количеством отсутствующих значений.\n"
   ]
  },
  {
   "cell_type": "code",
   "execution_count": 6,
   "id": "f183570c",
   "metadata": {},
   "outputs": [
    {
     "name": "stdout",
     "output_type": "stream",
     "text": [
      "Уникальные значения 'pool_encoded': [False  True]\n"
     ]
    },
    {
     "name": "stderr",
     "output_type": "stream",
     "text": [
      "C:\\Users\\Koop_\\AppData\\Local\\Temp\\ipykernel_16472\\2208532096.py:6: FutureWarning: Downcasting behavior in `replace` is deprecated and will be removed in a future version. To retain the old behavior, explicitly call `result.infer_objects(copy=False)`. To opt-in to the future behavior, set `pd.set_option('future.no_silent_downcasting', True)`\n",
      "  data['pool_encoded'] = data['pool_encoded'].replace(['yes', 'Yes'], True)\n"
     ]
    },
    {
     "data": {
      "text/html": [
       "<div>\n",
       "<style scoped>\n",
       "    .dataframe tbody tr th:only-of-type {\n",
       "        vertical-align: middle;\n",
       "    }\n",
       "\n",
       "    .dataframe tbody tr th {\n",
       "        vertical-align: top;\n",
       "    }\n",
       "\n",
       "    .dataframe thead th {\n",
       "        text-align: right;\n",
       "    }\n",
       "</style>\n",
       "<table border=\"1\" class=\"dataframe\">\n",
       "  <thead>\n",
       "    <tr style=\"text-align: right;\">\n",
       "      <th></th>\n",
       "      <th>status</th>\n",
       "      <th>propertyType</th>\n",
       "      <th>street</th>\n",
       "      <th>baths</th>\n",
       "      <th>homeFacts</th>\n",
       "      <th>fireplace</th>\n",
       "      <th>city</th>\n",
       "      <th>schools</th>\n",
       "      <th>sqft</th>\n",
       "      <th>zipcode</th>\n",
       "      <th>beds</th>\n",
       "      <th>state</th>\n",
       "      <th>stories</th>\n",
       "      <th>target</th>\n",
       "      <th>pool_encoded</th>\n",
       "    </tr>\n",
       "  </thead>\n",
       "  <tbody>\n",
       "    <tr>\n",
       "      <th>0</th>\n",
       "      <td>Active</td>\n",
       "      <td>Single Family Home</td>\n",
       "      <td>240 Heather Ln</td>\n",
       "      <td>3.5</td>\n",
       "      <td>{'atAGlanceFacts': [{'factValue': '2019', 'fac...</td>\n",
       "      <td>Gas Logs</td>\n",
       "      <td>Southern Pines</td>\n",
       "      <td>[{'rating': ['4', '4', '7', 'NR', '4', '7', 'N...</td>\n",
       "      <td>2900</td>\n",
       "      <td>28387</td>\n",
       "      <td>4</td>\n",
       "      <td>NC</td>\n",
       "      <td>NaN</td>\n",
       "      <td>$418,000</td>\n",
       "      <td>False</td>\n",
       "    </tr>\n",
       "    <tr>\n",
       "      <th>1</th>\n",
       "      <td>for sale</td>\n",
       "      <td>single-family home</td>\n",
       "      <td>12911 E Heroy Ave</td>\n",
       "      <td>3 Baths</td>\n",
       "      <td>{'atAGlanceFacts': [{'factValue': '2019', 'fac...</td>\n",
       "      <td>NaN</td>\n",
       "      <td>Spokane Valley</td>\n",
       "      <td>[{'rating': ['4/10', 'None/10', '4/10'], 'data...</td>\n",
       "      <td>1,947 sqft</td>\n",
       "      <td>99216</td>\n",
       "      <td>3 Beds</td>\n",
       "      <td>WA</td>\n",
       "      <td>2.0</td>\n",
       "      <td>$310,000</td>\n",
       "      <td>False</td>\n",
       "    </tr>\n",
       "    <tr>\n",
       "      <th>2</th>\n",
       "      <td>for sale</td>\n",
       "      <td>single-family home</td>\n",
       "      <td>2005 Westridge Rd</td>\n",
       "      <td>2 Baths</td>\n",
       "      <td>{'atAGlanceFacts': [{'factValue': '1961', 'fac...</td>\n",
       "      <td>yes</td>\n",
       "      <td>Los Angeles</td>\n",
       "      <td>[{'rating': ['8/10', '4/10', '8/10'], 'data': ...</td>\n",
       "      <td>3,000 sqft</td>\n",
       "      <td>90049</td>\n",
       "      <td>3 Beds</td>\n",
       "      <td>CA</td>\n",
       "      <td>1.0</td>\n",
       "      <td>$2,895,000</td>\n",
       "      <td>True</td>\n",
       "    </tr>\n",
       "    <tr>\n",
       "      <th>3</th>\n",
       "      <td>for sale</td>\n",
       "      <td>single-family home</td>\n",
       "      <td>4311 Livingston Ave</td>\n",
       "      <td>8 Baths</td>\n",
       "      <td>{'atAGlanceFacts': [{'factValue': '2006', 'fac...</td>\n",
       "      <td>yes</td>\n",
       "      <td>Dallas</td>\n",
       "      <td>[{'rating': ['9/10', '9/10', '10/10', '9/10'],...</td>\n",
       "      <td>6,457 sqft</td>\n",
       "      <td>75205</td>\n",
       "      <td>5 Beds</td>\n",
       "      <td>TX</td>\n",
       "      <td>3.0</td>\n",
       "      <td>$2,395,000</td>\n",
       "      <td>False</td>\n",
       "    </tr>\n",
       "    <tr>\n",
       "      <th>4</th>\n",
       "      <td>for sale</td>\n",
       "      <td>lot/land</td>\n",
       "      <td>1524 Kiscoe St</td>\n",
       "      <td>NaN</td>\n",
       "      <td>{'atAGlanceFacts': [{'factValue': '', 'factLab...</td>\n",
       "      <td>NaN</td>\n",
       "      <td>Palm Bay</td>\n",
       "      <td>[{'rating': ['4/10', '5/10', '5/10'], 'data': ...</td>\n",
       "      <td>NaN</td>\n",
       "      <td>32908</td>\n",
       "      <td>NaN</td>\n",
       "      <td>FL</td>\n",
       "      <td>NaN</td>\n",
       "      <td>$5,000</td>\n",
       "      <td>False</td>\n",
       "    </tr>\n",
       "  </tbody>\n",
       "</table>\n",
       "</div>"
      ],
      "text/plain": [
       "     status        propertyType               street    baths  \\\n",
       "0    Active  Single Family Home       240 Heather Ln      3.5   \n",
       "1  for sale  single-family home    12911 E Heroy Ave  3 Baths   \n",
       "2  for sale  single-family home    2005 Westridge Rd  2 Baths   \n",
       "3  for sale  single-family home  4311 Livingston Ave  8 Baths   \n",
       "4  for sale            lot/land       1524 Kiscoe St      NaN   \n",
       "\n",
       "                                           homeFacts fireplace  \\\n",
       "0  {'atAGlanceFacts': [{'factValue': '2019', 'fac...  Gas Logs   \n",
       "1  {'atAGlanceFacts': [{'factValue': '2019', 'fac...       NaN   \n",
       "2  {'atAGlanceFacts': [{'factValue': '1961', 'fac...       yes   \n",
       "3  {'atAGlanceFacts': [{'factValue': '2006', 'fac...       yes   \n",
       "4  {'atAGlanceFacts': [{'factValue': '', 'factLab...       NaN   \n",
       "\n",
       "             city                                            schools  \\\n",
       "0  Southern Pines  [{'rating': ['4', '4', '7', 'NR', '4', '7', 'N...   \n",
       "1  Spokane Valley  [{'rating': ['4/10', 'None/10', '4/10'], 'data...   \n",
       "2     Los Angeles  [{'rating': ['8/10', '4/10', '8/10'], 'data': ...   \n",
       "3          Dallas  [{'rating': ['9/10', '9/10', '10/10', '9/10'],...   \n",
       "4        Palm Bay  [{'rating': ['4/10', '5/10', '5/10'], 'data': ...   \n",
       "\n",
       "         sqft zipcode    beds state stories      target  pool_encoded  \n",
       "0        2900   28387       4    NC     NaN    $418,000         False  \n",
       "1  1,947 sqft   99216  3 Beds    WA     2.0    $310,000         False  \n",
       "2  3,000 sqft   90049  3 Beds    CA     1.0  $2,895,000          True  \n",
       "3  6,457 sqft   75205  5 Beds    TX     3.0  $2,395,000         False  \n",
       "4         NaN   32908     NaN    FL     NaN      $5,000         False  "
      ]
     },
     "metadata": {},
     "output_type": "display_data"
    }
   ],
   "source": [
    "# Объединяем столбцы \"private pool\" и \"PrivatePool\" с помощью combine_first.\n",
    "data['pool_encoded'] = data['private pool'].combine_first(data['PrivatePool'])\n",
    "# Предполагаем, что отсутствие информации означает отсутствие бассейна, - заменяем NaN на False.\n",
    "data['pool_encoded'] = data['pool_encoded'].fillna(False)\n",
    "# Приводим текстовые обозначения наличия бассейна к булевому типу: 'yes' и 'Yes' -> True\n",
    "data['pool_encoded'] = data['pool_encoded'].replace(['yes', 'Yes'], True)\n",
    "# Удаляем исходные столбцы, так как вся необходимая информация теперь в pool_encoded.\n",
    "data.drop(['private pool', 'PrivatePool', 'mls-id', 'MlsId'], axis=1, inplace=True)\n",
    "# Выводим уникальные значения объединённого столбца и первые строки для проверки корректности обработки.\n",
    "print(\"Уникальные значения 'pool_encoded':\", data['pool_encoded'].unique())\n",
    "display(data.head())"
   ]
  },
  {
   "cell_type": "code",
   "execution_count": 7,
   "id": "14942acc",
   "metadata": {},
   "outputs": [
    {
     "name": "stdout",
     "output_type": "stream",
     "text": [
      "Удалено 91 дубликатов (из 377135 строк -> 377044 строк)\n"
     ]
    }
   ],
   "source": [
    "# Функция для удаления дубликатов из DataFrame с выводом статистики\n",
    "def remove_duplicates(data):\n",
    "    \"\"\"\n",
    "    Удаляет дубликаты из DataFrame и выводит количество удалённых строк.\n",
    "    \n",
    "    :param data: DataFrame с исходными данными.\n",
    "    :return: DataFrame без дубликатов.\n",
    "    \"\"\"\n",
    "    rows_before = data.shape[0]\n",
    "    data_clean = data.drop_duplicates(ignore_index=True)\n",
    "    rows_after = data_clean.shape[0]\n",
    "    duplicates_removed = rows_before - rows_after\n",
    "    \n",
    "    print(f\"Удалено {duplicates_removed} дубликатов (из {rows_before} строк -> {rows_after} строк)\")\n",
    "    return data_clean\n",
    "\n",
    "# Применяем функцию\n",
    "data = remove_duplicates(data)"
   ]
  },
  {
   "cell_type": "markdown",
   "id": "5169f909",
   "metadata": {},
   "source": [
    "## Работа над признаком status"
   ]
  },
  {
   "cell_type": "code",
   "execution_count": 8,
   "id": "a42794a4",
   "metadata": {},
   "outputs": [
    {
     "name": "stdout",
     "output_type": "stream",
     "text": [
      "Статистика столбца 'status':\n",
      "  Количество пропущенных значений: 39916\n",
      "  Процент пропущенных значений: 10.59%\n",
      "  Количество уникальных значений: 159\n",
      "  Первые 10 уникальных значений: ['Active', 'for sale', nan, 'New construction', 'New', 'For sale', 'Pending', 'P', 'Active/Contingent', 'Pre-foreclosure / auction']\n"
     ]
    }
   ],
   "source": [
    "# Подсчёт пропущенных значений в столбце 'status'\n",
    "missing_values_count = data['status'].isna().sum()\n",
    "total_count = len(data)\n",
    "missing_values_percentage = (missing_values_count / total_count) * 100\n",
    "\n",
    "# Получаем информацию по уникальным значениям\n",
    "unique_status_count = data['status'].nunique()\n",
    "unique_status_values = data['status'].unique()[:10]\n",
    "\n",
    "# Выводим статистику столбца 'status' в удобном виде\n",
    "print(\"Статистика столбца 'status':\")\n",
    "print(f\"  Количество пропущенных значений: {missing_values_count}\")\n",
    "print(f\"  Процент пропущенных значений: {missing_values_percentage:.2f}%\")\n",
    "print(f\"  Количество уникальных значений: {unique_status_count}\")\n",
    "print(f\"  Первые 10 уникальных значений: {list(unique_status_values)}\")"
   ]
  },
  {
   "cell_type": "markdown",
   "id": "79c20b43",
   "metadata": {},
   "source": [
    "Разделим статусы на категории а пропуски заменим на other и запишем их"
   ]
  },
  {
   "cell_type": "code",
   "execution_count": 9,
   "id": "a21313fb",
   "metadata": {},
   "outputs": [
    {
     "name": "stdout",
     "output_type": "stream",
     "text": [
      "Статистика столбца 'status':\n",
      "  Количество пропущенных значений: 0\n",
      "  Процент пропущенных значений: 0.00%\n",
      "  Количество уникальных значений: 15\n",
      "  Первые 10 уникальных значений: ['Active', 'For Sale', 'Other', 'Pending', 'Foreclosure', 'Under Contract', 'For Rent', 'Auction', 'Contingent', 'Price Change']\n",
      "\n",
      "Удалено 0 дубликатов\n"
     ]
    }
   ],
   "source": [
    "# Задаём словарь категорий для статусов\n",
    "categories = {\n",
    "    \"For Sale\": [\"for sale\", \"For sale\", \"New construction\", \"New\"],\n",
    "    \"Active\": [\n",
    "        \"Active\", \"A Active\", \"Active/Contingent\", \"Active Under Contract\", \"Active Option\", \"Auction - Active\",\n",
    "        \"Active With Contingencies\", \"Active Option Contract\", \"Active Contingency\", \"Active Backup\",\n",
    "        \"Active Contingent\", \"Active - Auction\", \"Active With Offer\", \"Active - Contingent\", \"Active with Contract\",\n",
    "        \"Temporary Active\", \"Re Activated\", \"Reactivated\"\n",
    "    ],\n",
    "    \"Pending\": [\n",
    "        \"P\", \"Pending\", \"pending\", \"P Pending Sale\", \"Pending Ab\", \"Pending Continue To Show\",\n",
    "        \"Pending Inspection\", \"Pending Offer Approval\", \"Pending In\", \"Pending W/Insp Finance\", \"Pending Fe\",\n",
    "        \"Pending W/Backup Wanted\", \"Pending Backups Wanted\", \"Pending With Contingencies\", \"Lease/Purchase Pending\",\n",
    "        \"Pending Bring Backup\", \"Pending - Taking Backups\", \"Pending - Continue to Show\",\n",
    "        \"Pending Taking Backups\", \"Offer Pending Signature\", \"Pending (Do Not Show)\", \"Pending W/ Cont.\",\n",
    "        \"Pending W/Escape Clause\", \"Pending - Backup Offer Requested\", \"Pending Sale\"\n",
    "    ],\n",
    "    \"Contingent\": [\n",
    "        \"Contingent\", \"Contingent Finance And Inspection\", \"Contingent Show\",\n",
    "        \"Contingent Take Backup\", \"Contingent - Sale of Home\", \"Contingent Finance and Inspection\",\n",
    "        \"C Continue Show\", \"Contingent   Show\", \"Contingent   Release\", \"Contingent   No Show\",\n",
    "        \"CT Insp - Inspection Contingency\", \"Contingent   Foreclosure\", \"Conting Accpt Backups\",\n",
    "        \"Contingent - Financing\", \"Contingency 48 Hr (+/ )\", \"Contingency Contract\", \"Contingent Escape\"\n",
    "    ],\n",
    "    \"Foreclosure\": [\n",
    "        \"Pre-foreclosure\", \"Pre-foreclosure / auction\", \" / auction\", \"Foreclosed\", \"foreclosure\", \"Foreclosure\"\n",
    "    ],\n",
    "    \"Under Contract\": [\n",
    "        \"Under Contract\", \"Under Contract   Showing\", \"Under Contract Backups\", \"Under Contract Show\",\n",
    "        \"Under Contract - Show\", \"Under Contract - No Show\", \"Under contract\", \"U Under Contract\",\n",
    "        \"Due Diligence Period\", \"Contract Contingent On Buyer Sale\", \"Contract P\", \"Ct\", \"Uc Continue To Show\",\n",
    "        \"Under Contract Taking Back Up Offers\", \"Under Contract W/ Bckp\", \"Contract\"\n",
    "    ],\n",
    "    \"For Rent\": [\"for rent\", \"Apartment for rent\", \"Condo for rent\"],\n",
    "    \"Auction\": [\"Auction\"],\n",
    "    \"Recently Sold\": [\"recently sold\"],\n",
    "    \"Price Change\": [\"Price Change\"],\n",
    "    \"Back on Market\": [\"Back on Market\", \"Back On Market\"],\n",
    "    \"Closed\": [\"Closed\"],\n",
    "    \"Listing Extended\": [\"Listing Extended\"],\n",
    "    \"Coming Soon\": [\n",
    "        \"Coming soon: Nov 21.\", \"Coming soon: Dec 4.\", \"Coming soon: Nov 23.\", \"Coming soon: Nov 29.\",\n",
    "        \"Coming soon: Dec 2.\", \"Coming soon: Dec 10.\", \"Coming soon: Dec 24.\", \"Coming soon: Nov 14.\",\n",
    "        \"Coming soon: Nov 22.\", \"Coming soon: Oct 21.\", \"Coming soon: Dec 14.\", \"Coming soon: Oct 24.\",\n",
    "        \"Coming soon: Dec 18.\", \"Coming soon: Dec 16.\", \"Coming soon: Dec 3.\", \"Coming soon: Dec 25.\",\n",
    "        \"Coming soon: Nov 11.\", \"Coming soon: Nov 28.\", \"Coming soon: Nov 17.\", \"Coming soon: Dec 6.\",\n",
    "        \"Coming soon: Nov 27.\", \"Coming soon: Nov 26.\", \"Coming soon: Dec 7.\", \"Coming soon: Dec 27.\",\n",
    "        \"Coming soon: Dec 11.\", \"Coming soon: Dec 5.\", \"Coming soon: Nov 13.\", \"Coming soon: Nov 19.\",\n",
    "        \"Coming soon: Nov 8.\", \"Coming soon: Oct 29.\", \"Coming soon: Dec 15.\", \"Coming soon: Oct 30.\",\n",
    "        \"Coming soon: Dec 9.\", \"Coming soon: Dec 20.\", \"Coming soon: Dec 13.\", \"Coming soon: Dec 23.\",\n",
    "        \"Coming soon: Nov 30.\", \"Coming soon: Dec 1.\", \"Coming soon: Nov 5.\", \"Coming soon: Nov 12.\",\n",
    "        \"Coming soon: Nov 25.\", \"Coming soon: Nov 9.\"\n",
    "    ],\n",
    "}\n",
    "\n",
    "\n",
    "def categorize_status(status_value):\n",
    "    \"\"\"\n",
    "    Функция для классификации статуса объекта недвижимости по заданным категориям.\n",
    "    Если статус не найден в словаре, возвращает \"Other\".\n",
    "    \"\"\"\n",
    "    for category, values in categories.items():\n",
    "        if status_value in values:\n",
    "            return category\n",
    "        \n",
    "    return \"Other\"\n",
    "\n",
    "# Применяем категоризацию к столбцу 'status'\n",
    "data['status'] = data['status'].apply(categorize_status)\n",
    "\n",
    "# Получаем статистику по столбцу 'status'\n",
    "missing_values_count = data['status'].isna().sum()\n",
    "total_count = len(data)\n",
    "missing_values_percentage = (missing_values_count / total_count) * 100\n",
    "unique_status = list(data['status'].unique())\n",
    "unique_status_count = data['status'].nunique()\n",
    "\n",
    "print(\"Статистика столбца 'status':\")\n",
    "print(f\"  Количество пропущенных значений: {missing_values_count}\")\n",
    "print(f\"  Процент пропущенных значений: {missing_values_percentage:.2f}%\")\n",
    "print(f\"  Количество уникальных значений: {unique_status_count}\")\n",
    "print(f\"  Первые 10 уникальных значений: {unique_status[:10]}\")\n",
    "\n",
    "# Сохраняем количество строк до удаления дубликатов\n",
    "rows_before = data.shape[0]\n",
    "# Удаляем дубликаты с переиндексацией\n",
    "data = data.drop_duplicates(ignore_index=True)\n",
    "# Сохраняем количество строк после удаления дубликатов и рассчитываем разницу\n",
    "rows_after = data.shape[0]\n",
    "duplicates_removed = rows_before - rows_after\n",
    "print(f'\\nУдалено {duplicates_removed} дубликатов')"
   ]
  },
  {
   "cell_type": "markdown",
   "id": "54ef3e9f",
   "metadata": {},
   "source": [
    "## Работа над признаком propertyType"
   ]
  },
  {
   "cell_type": "markdown",
   "id": "0a20ef24",
   "metadata": {},
   "source": [
    "Анализ исходного признака propertyType"
   ]
  },
  {
   "cell_type": "code",
   "execution_count": 10,
   "id": "087d9319",
   "metadata": {},
   "outputs": [
    {
     "name": "stdout",
     "output_type": "stream",
     "text": [
      "Количество пропущенных значений: 34725\n",
      "Процент пропущенных значений: 9.21%\n",
      "Количество уникальных значений: 1280\n",
      "Уникальные значения: ['Single Family Home', 'single-family home', 'lot/land', 'townhouse', 'Florida', nan, 'Single Family', 'coop', 'English', '2 Story']\n"
     ]
    }
   ],
   "source": [
    "# Анализ признака propertyType\n",
    "missing_values_count = data.propertyType.isna().sum()\n",
    "total_count = len(data)\n",
    "missing_values_percentage = (missing_values_count / total_count) * 100\n",
    "print(f\"Количество пропущенных значений: {missing_values_count}\\n\"\n",
    "      f\"Процент пропущенных значений: {missing_values_percentage:.2f}%\\n\"\n",
    "      f\"Количество уникальных значений: {data.propertyType.nunique()}\\n\"\n",
    "      f\"Уникальные значения: {list(data.propertyType.unique()[:10])}\")"
   ]
  },
  {
   "cell_type": "code",
   "execution_count": 11,
   "id": "6aac2061",
   "metadata": {},
   "outputs": [],
   "source": [
    "# Приведение признака propertyType к нижнему регистру\n",
    "data.propertyType = data.propertyType.str.lower()\n",
    "\n",
    "# Приводим к единому виду написания и заменяем 'yes' и 'unknown' на 'other'\n",
    "data.propertyType = data.propertyType \\\n",
    "    .str.replace('single-family home', 'single family', regex=False) \\\n",
    "    .str.replace('single family home', 'single family', regex=False) \\\n",
    "    .str.replace('yes', 'other', regex=False) \\\n",
    "    .str.replace('unknown', 'other', regex=False)\n",
    "\n",
    "# Извлекаем первую часть значения, если в строке несколько типов, разделенных запятыми\n",
    "data['Type'] = data['propertyType'].str.split(',').str[0]"
   ]
  },
  {
   "cell_type": "code",
   "execution_count": 12,
   "id": "71e1e955",
   "metadata": {},
   "outputs": [
    {
     "name": "stdout",
     "output_type": "stream",
     "text": [
      "Количество пропущенных значений: 34725\n",
      "Процент пропущенных значений: 9.21%\n",
      "Количество уникальных значений: 255\n",
      "Уникальные значения: ['single family', 'lot/land', 'townhouse', 'florida', nan, 'coop', 'english', '2 story', 'multi-family', 'penthouse']\n"
     ]
    }
   ],
   "source": [
    "# Проверяем полученные значения в столбце 'Type'\n",
    "missing_values_count = data.Type.isna().sum()\n",
    "total_count = len(data)\n",
    "missing_values_percentage = (missing_values_count / total_count) * 100\n",
    "print(f\"Количество пропущенных значений: {missing_values_count}\\n\"\n",
    "      f\"Процент пропущенных значений: {missing_values_percentage:.2f}%\\n\"\n",
    "      f\"Количество уникальных значений: {data.Type.nunique()}\\n\"\n",
    "      f\"Уникальные значения: {list(data.Type.unique()[:10])}\")"
   ]
  },
  {
   "cell_type": "code",
   "execution_count": 13,
   "id": "d1d20080",
   "metadata": {},
   "outputs": [],
   "source": [
    "# Определяем словарь для замены синонимов типов недвижимости\n",
    "synonyms_mapping = {\n",
    "    'single_family_home': [\n",
    "        'single family', '1 story', '2 story', 'detached', '1 story/ranch', '1 story traditional', 'single detached',\n",
    "        'singlefamilyresidence', 'single wide', 'single-wide mobile with land', 'two story', 'one story',\n",
    "        'one level unit', 'rancher', '1 1/2 story', 'single wide mh', 'one story traditional'\n",
    "    ],\n",
    "    'multi_family_home': [\n",
    "        'multi-family', 'multi-family home', 'duplex', 'triplex', 'fourplex', 'multi_level', 'multi family',\n",
    "        '2 unit condo', '2-story'\n",
    "    ],\n",
    "    'condo': [\n",
    "        'condo', 'coop', 'cooperative', 'condo/townhome/row home/co-op', 'condo/townhome', 'condominium', 'condo/unit',\n",
    "        'apartment/condo/townhouse', 'co-op', '2 story condo', 'high rise'\n",
    "    ],\n",
    "    'townhouse': [\n",
    "        'townhouse', 'townhome style', 'townhouse-interior', 'townhouse-end unit'\n",
    "    ],\n",
    "    'apartment': [\n",
    "        'apartment', 'condominium (single level)', 'high-rise', 'mid-rise', 'low-rise (1-3 stories)', 'flats', 'studio'\n",
    "    ],\n",
    "    'land': [\n",
    "        'lot/land', 'land'\n",
    "    ],\n",
    "    'mobile_home': [\n",
    "        'mobile/manufactured', 'mobile / manufactured', 'manufactured house', 'mfd/mobile home', 'mobile home',\n",
    "        'manufactured home', 'manufactured double-wide', 'manufactured single-wide', 'mobile home 1 story',\n",
    "        'mobile manu - double wide'\n",
    "    ],\n",
    "    'miscellaneous': [\n",
    "        'miscellaneous'\n",
    "    ],\n",
    "    'ranch': [\n",
    "        'ranch', 'one story'\n",
    "    ],\n",
    "    'modern': [\n",
    "        'contemporary', 'contemporary/modern', 'modern', 'mid-century modern', 'modern farmhouse', 'modernist'\n",
    "    ],\n",
    "    'historical': [\n",
    "        'historical', 'designated historical home', 'historical/conservation district', 'historic/older',\n",
    "        'historic vintage', 'historic'\n",
    "    ],\n",
    "    'other': [\n",
    "        'other', 'english', 'urban contemporary', 'other style', 'florida', 'farms/ranches', 'carriage house',\n",
    "        'country english', 'straight thru', 'less than 4 floors', 'bungalow', 'custom', 'arts & crafts', 'tudor',\n",
    "        'new build 2019', 'split foyer', 'cottage', 'cottage/camp', 'garden home', 'farm/ranch', 'farm/ranch house',\n",
    "        'farm house', 'hi ranch', 'attached duplex', 'farmhouse', 'houseboat', 'ground floor', 'victorian',\n",
    "        '3 story', '3+ stories', 'santa barbara/tuscan', 'old style', 'modular/prefab', 'post and beam',\n",
    "        'manuf/mobile', 'multiple occupancy', 'attached', 'hawaiian plantation', 'forest garden home',\n",
    "        '1 1/2 story with basement', 'split-entry', 'texas hill country', 'lake house', '1 story with basement',\n",
    "        'hi-rise', 'coastal beach home', 'historical', 'key west/coastal', 'loft/balcony', 'english manor',\n",
    "        'mid-rise (4-7 stories)', 'mid-level', 'new englander', 'residential (<1 acre)', 'ranch',\n",
    "        'residential (1+ acre)', 'split', 'split level', 'split (4 level)', 'split (5+ level)', 'urban', 'patio',\n",
    "        'patio home', 'penthouse', 'manor', 'victorian/federal', 'coastal', 'coastal contemporary', 'coastal ii',\n",
    "        'coastal modern', 'coastal two story', 'mountain contemporary', 'key west', 'high ranch', 'end unit'\n",
    "    ]\n",
    "}"
   ]
  },
  {
   "cell_type": "markdown",
   "id": "a4872430",
   "metadata": {},
   "source": [
    "Применение синонимической замены"
   ]
  },
  {
   "cell_type": "code",
   "execution_count": 14,
   "id": "218dd97d",
   "metadata": {},
   "outputs": [],
   "source": [
    "# Функция для замены синонимов\n",
    "def replace_synonyms(value):\n",
    "    if pd.isna(value):\n",
    "        return \"other\"\n",
    "    value = value.strip()  # удаляем лишние пробелы\n",
    "    for key, synonym_values in synonyms_mapping.items():\n",
    "        if value in synonym_values:\n",
    "            return key\n",
    "    return \"other\"\n",
    "# Применяем функцию к столбцу Type\n",
    "data['Type'] = data['Type'].apply(replace_synonyms)"
   ]
  },
  {
   "cell_type": "markdown",
   "id": "91c2ffb7",
   "metadata": {},
   "source": [
    "Финальная проверка и удаление исходного признака propertyType"
   ]
  },
  {
   "cell_type": "code",
   "execution_count": 15,
   "id": "4bde0fad",
   "metadata": {},
   "outputs": [
    {
     "name": "stdout",
     "output_type": "stream",
     "text": [
      "Количество пропущенных значений: 0\n",
      "Процент пропущенных значений: 0.00%\n",
      "Количество уникальных значений: 12\n",
      "Уникальные значения: ['single_family_home', 'land', 'townhouse', 'other', 'condo', 'multi_family_home', 'mobile_home', 'apartment', 'modern', 'miscellaneous']\n"
     ]
    }
   ],
   "source": [
    "# Проверка столбца 'Type' после замены синонимов\n",
    "missing_values_count = data.Type.isna().sum()\n",
    "total_count = len(data)\n",
    "missing_values_percentage = (missing_values_count / total_count) * 100\n",
    "print(f\"Количество пропущенных значений: {missing_values_count}\\n\"\n",
    "      f\"Процент пропущенных значений: {missing_values_percentage:.2f}%\\n\"\n",
    "      f\"Количество уникальных значений: {data.Type.nunique()}\\n\"\n",
    "      f\"Уникальные значения: {list(data.Type.unique()[:10])}\")\n",
    "# После успешного преобразования исходный столбец propertyType больше не нужен\n",
    "data.drop('propertyType', axis=1, inplace=True)"
   ]
  },
  {
   "cell_type": "markdown",
   "id": "6b58b718",
   "metadata": {},
   "source": [
    "## Работа над признаком street"
   ]
  },
  {
   "cell_type": "code",
   "execution_count": 16,
   "id": "4be0151b",
   "metadata": {},
   "outputs": [
    {
     "name": "stdout",
     "output_type": "stream",
     "text": [
      "Количество пропущенных значений: 2\n",
      "Процент пропущенных значений: 0.00%\n",
      "Количество уникальных значений: 337076\n"
     ]
    }
   ],
   "source": [
    "# Проверка пропусков и уникальных значений в столбце 'street'\n",
    "missing_values_count = data['street'].isna().sum()\n",
    "total_count = len(data)\n",
    "missing_values_percentage = (missing_values_count / total_count) * 100\n",
    "print(f\"Количество пропущенных значений: {missing_values_count}\\n\"\n",
    "      f\"Процент пропущенных значений: {missing_values_percentage:.2f}%\\n\"\n",
    "      f\"Количество уникальных значений: {data['street'].nunique()}\")\n",
    "# Удаляем строки, где отсутствует информация об адресе\n",
    "data = data.dropna(subset=['street'])"
   ]
  },
  {
   "cell_type": "markdown",
   "id": "d7f62e5c",
   "metadata": {},
   "source": [
    "Признаки, в которых все значения уникальны, могут быть бесполезны для машинного обучения, так как такие признаки имеют нулевую дисперсию.\n"
   ]
  },
  {
   "cell_type": "code",
   "execution_count": 17,
   "id": "6ab1804f",
   "metadata": {},
   "outputs": [],
   "source": [
    "# Удаляем столбец 'street'\n",
    "data = data.drop('street', axis=1)"
   ]
  },
  {
   "cell_type": "markdown",
   "id": "a29acfc5",
   "metadata": {},
   "source": [
    "## Работаем с признаком baths\n",
    "\n",
    "Предварительный анализ столбца baths"
   ]
  },
  {
   "cell_type": "code",
   "execution_count": 18,
   "id": "98a36cdb",
   "metadata": {},
   "outputs": [
    {
     "name": "stdout",
     "output_type": "stream",
     "text": [
      "Количество пропущенных значений: 106260\n",
      "Процент пропущенных значений: 28.18%\n",
      "Количество уникальных значений: 229\n",
      "Уникальные значения: ['3.5', '3 Baths', '2 Baths', '8 Baths', nan, '2', '3', 'Bathrooms: 2', '1,750', '4 Baths']\n"
     ]
    }
   ],
   "source": [
    "# выполним проверку\n",
    "missing_values_count = data.baths.isna().sum()\n",
    "total_count = len(data)\n",
    "missing_values_percentage = (missing_values_count / total_count) * 100\n",
    "\n",
    "print(f\"Количество пропущенных значений: {missing_values_count}\\n\"\n",
    "      f\"Процент пропущенных значений: {missing_values_percentage:.2f}%\\n\"\n",
    "      f\"Количество уникальных значений: {data.baths.nunique()}\\n\"\n",
    "      f\"Уникальные значения: {list(data.baths.unique()[:10])}\")"
   ]
  },
  {
   "cell_type": "code",
   "execution_count": 19,
   "id": "905c3b05",
   "metadata": {},
   "outputs": [],
   "source": [
    "# Удаляем все буквы, пробелы и двоеточия\n",
    "data.baths = data.baths.str.replace('[a-zA-Z:]','', regex=True)\n",
    "# Удаляем все пробелы\n",
    "data.baths = data.baths.str.replace(' ','', regex=True)"
   ]
  },
  {
   "cell_type": "code",
   "execution_count": 20,
   "id": "11cb2328",
   "metadata": {},
   "outputs": [
    {
     "name": "stdout",
     "output_type": "stream",
     "text": [
      "Количество пропущенных значений: 106260\n",
      "Процент пропущенных значений: 28.18%\n",
      "Количество уникальных значений: 148\n",
      "Уникальные значения: ['3.5', '3', '2', '8', nan, '1,750', '4', '5', '1,000', '7']\n"
     ]
    }
   ],
   "source": [
    "# выполним проверку\n",
    "missing_values_count = data.baths.isna().sum()\n",
    "total_count = len(data)\n",
    "missing_values_percentage = (missing_values_count / total_count) * 100\n",
    "\n",
    "print(f\"Количество пропущенных значений: {missing_values_count}\\n\"\n",
    "      f\"Процент пропущенных значений: {missing_values_percentage:.2f}%\\n\"\n",
    "      f\"Количество уникальных значений: {data.baths.nunique()}\\n\"\n",
    "      f\"Уникальные значения: {list(data.baths.unique()[:10])}\")"
   ]
  },
  {
   "cell_type": "markdown",
   "id": "4e68558f",
   "metadata": {},
   "source": [
    "пропуски заполним нулями так как большинство пропущенных значений соответствуют земле где нет здания"
   ]
  },
  {
   "cell_type": "code",
   "execution_count": 21,
   "id": "f6dc264d",
   "metadata": {},
   "outputs": [
    {
     "name": "stderr",
     "output_type": "stream",
     "text": [
      "C:\\Users\\Koop_\\AppData\\Local\\Temp\\ipykernel_16472\\979716405.py:3: FutureWarning: A value is trying to be set on a copy of a DataFrame or Series through chained assignment using an inplace method.\n",
      "The behavior will change in pandas 3.0. This inplace method will never work because the intermediate object on which we are setting values always behaves as a copy.\n",
      "\n",
      "For example, when doing 'df[col].method(value, inplace=True)', try using 'df.method({col: value}, inplace=True)' or df[col] = df[col].method(value) instead, to perform the operation inplace on the original object.\n",
      "\n",
      "\n",
      "  data['baths'].replace(['nan','', '~', '..', '--', '—','0.0','0.00','0/0'], 0, inplace=True)\n"
     ]
    }
   ],
   "source": [
    "# поправим кривые значения\n",
    "data['baths'] = data['baths'].str.replace('[a-zA-Z+:]','', regex=True)\n",
    "data['baths'].replace(['nan','', '~', '..', '--', '—','0.0','0.00','0/0'], 0, inplace=True)\n",
    "data['baths'].replace(['1-2','1/1-0/1-0/1-0', '1/1/1/1','1-0/1-0/1', ], 1, inplace=True)\n",
    "data['baths'].replace(['2-1/2-1/1-1/1-1','3-1/2-2',], 2, inplace=True)\n",
    "data['baths'].replace(['116/116/116'], 116, inplace=True)\n",
    "data['baths'].replace(['7,500'], 7.5, inplace=True)\n",
    "data['baths'].replace(['5,000'], 5, inplace=True)\n",
    "data['baths'].replace(['3,500'], 3.5, inplace=True)\n",
    "data['baths'].replace(['2,750'], 2.75, inplace=True)\n",
    "data['baths'].replace(['2,250'], 2.25, inplace=True)\n",
    "data['baths'].replace(['1,250'], 1.25, inplace=True)\n",
    "data['baths'].replace(['1,500'], 1.5, inplace=True)\n",
    "data['baths'].replace(['4,000'], 4, inplace=True)\n",
    "data['baths'].replace(['2,000'], 2, inplace=True)\n",
    "data['baths'].replace(['3,000'], 3, inplace=True)\n",
    "data['baths'].replace(['2,500'], 2.5, inplace=True)\n",
    "data['baths'].replace(['1,000'], 1, inplace=True)\n",
    "data['baths'].replace(['1,750'], 1.75, inplace=True)\n",
    "data['baths'] = data['baths'].fillna(0)"
   ]
  },
  {
   "cell_type": "code",
   "execution_count": 22,
   "id": "525c64b3",
   "metadata": {},
   "outputs": [],
   "source": [
    "# переведем в числовой признак и округлим до целого числа\n",
    "data['baths'] = data['baths'].astype(float).round()"
   ]
  },
  {
   "cell_type": "code",
   "execution_count": 23,
   "id": "449e7b28",
   "metadata": {},
   "outputs": [
    {
     "data": {
      "text/html": [
       "<div>\n",
       "<style scoped>\n",
       "    .dataframe tbody tr th:only-of-type {\n",
       "        vertical-align: middle;\n",
       "    }\n",
       "\n",
       "    .dataframe tbody tr th {\n",
       "        vertical-align: top;\n",
       "    }\n",
       "\n",
       "    .dataframe thead th {\n",
       "        text-align: right;\n",
       "    }\n",
       "</style>\n",
       "<table border=\"1\" class=\"dataframe\">\n",
       "  <thead>\n",
       "    <tr style=\"text-align: right;\">\n",
       "      <th></th>\n",
       "      <th>status</th>\n",
       "      <th>baths</th>\n",
       "      <th>homeFacts</th>\n",
       "      <th>fireplace</th>\n",
       "      <th>city</th>\n",
       "      <th>schools</th>\n",
       "      <th>sqft</th>\n",
       "      <th>zipcode</th>\n",
       "      <th>beds</th>\n",
       "      <th>state</th>\n",
       "      <th>stories</th>\n",
       "      <th>target</th>\n",
       "      <th>pool_encoded</th>\n",
       "      <th>Type</th>\n",
       "    </tr>\n",
       "  </thead>\n",
       "  <tbody>\n",
       "    <tr>\n",
       "      <th>4</th>\n",
       "      <td>For Sale</td>\n",
       "      <td>0.0</td>\n",
       "      <td>{'atAGlanceFacts': [{'factValue': '', 'factLab...</td>\n",
       "      <td>NaN</td>\n",
       "      <td>Palm Bay</td>\n",
       "      <td>[{'rating': ['4/10', '5/10', '5/10'], 'data': ...</td>\n",
       "      <td>NaN</td>\n",
       "      <td>32908</td>\n",
       "      <td>NaN</td>\n",
       "      <td>FL</td>\n",
       "      <td>NaN</td>\n",
       "      <td>$5,000</td>\n",
       "      <td>False</td>\n",
       "      <td>land</td>\n",
       "    </tr>\n",
       "    <tr>\n",
       "      <th>6</th>\n",
       "      <td>Active</td>\n",
       "      <td>0.0</td>\n",
       "      <td>{'atAGlanceFacts': [{'factValue': '2006', 'fac...</td>\n",
       "      <td>NaN</td>\n",
       "      <td>POINCIANA</td>\n",
       "      <td>[{'rating': ['3', '3', '1', 'NR'], 'data': {'D...</td>\n",
       "      <td>1,507</td>\n",
       "      <td>34759</td>\n",
       "      <td>NaN</td>\n",
       "      <td>FL</td>\n",
       "      <td>One</td>\n",
       "      <td>181,500</td>\n",
       "      <td>False</td>\n",
       "      <td>other</td>\n",
       "    </tr>\n",
       "    <tr>\n",
       "      <th>7</th>\n",
       "      <td>Active</td>\n",
       "      <td>0.0</td>\n",
       "      <td>{'atAGlanceFacts': [{'factValue': '1976', 'fac...</td>\n",
       "      <td>NaN</td>\n",
       "      <td>Memphis</td>\n",
       "      <td>[{'rating': ['4', '2', '2'], 'data': {'Distanc...</td>\n",
       "      <td>NaN</td>\n",
       "      <td>38115</td>\n",
       "      <td>NaN</td>\n",
       "      <td>TN</td>\n",
       "      <td>NaN</td>\n",
       "      <td>68,000</td>\n",
       "      <td>False</td>\n",
       "      <td>other</td>\n",
       "    </tr>\n",
       "    <tr>\n",
       "      <th>11</th>\n",
       "      <td>Active</td>\n",
       "      <td>0.0</td>\n",
       "      <td>{'atAGlanceFacts': [{'factValue': '2015', 'fac...</td>\n",
       "      <td>NaN</td>\n",
       "      <td>Houston</td>\n",
       "      <td>[{'rating': ['6', '3', '6', '1', '5'], 'data':...</td>\n",
       "      <td>3,130</td>\n",
       "      <td>77068</td>\n",
       "      <td>NaN</td>\n",
       "      <td>TX</td>\n",
       "      <td>2</td>\n",
       "      <td>260,000</td>\n",
       "      <td>False</td>\n",
       "      <td>other</td>\n",
       "    </tr>\n",
       "    <tr>\n",
       "      <th>40</th>\n",
       "      <td>Active</td>\n",
       "      <td>0.0</td>\n",
       "      <td>{'atAGlanceFacts': [{'factValue': '', 'factLab...</td>\n",
       "      <td>NaN</td>\n",
       "      <td>ROTONDA WEST</td>\n",
       "      <td>[{'rating': ['6', '6', '7'], 'data': {'Distanc...</td>\n",
       "      <td>NaN</td>\n",
       "      <td>33947</td>\n",
       "      <td>NaN</td>\n",
       "      <td>FL</td>\n",
       "      <td>NaN</td>\n",
       "      <td>54,000</td>\n",
       "      <td>False</td>\n",
       "      <td>other</td>\n",
       "    </tr>\n",
       "  </tbody>\n",
       "</table>\n",
       "</div>"
      ],
      "text/plain": [
       "      status  baths                                          homeFacts  \\\n",
       "4   For Sale    0.0  {'atAGlanceFacts': [{'factValue': '', 'factLab...   \n",
       "6     Active    0.0  {'atAGlanceFacts': [{'factValue': '2006', 'fac...   \n",
       "7     Active    0.0  {'atAGlanceFacts': [{'factValue': '1976', 'fac...   \n",
       "11    Active    0.0  {'atAGlanceFacts': [{'factValue': '2015', 'fac...   \n",
       "40    Active    0.0  {'atAGlanceFacts': [{'factValue': '', 'factLab...   \n",
       "\n",
       "   fireplace          city                                            schools  \\\n",
       "4        NaN      Palm Bay  [{'rating': ['4/10', '5/10', '5/10'], 'data': ...   \n",
       "6        NaN     POINCIANA  [{'rating': ['3', '3', '1', 'NR'], 'data': {'D...   \n",
       "7        NaN       Memphis  [{'rating': ['4', '2', '2'], 'data': {'Distanc...   \n",
       "11       NaN       Houston  [{'rating': ['6', '3', '6', '1', '5'], 'data':...   \n",
       "40       NaN  ROTONDA WEST  [{'rating': ['6', '6', '7'], 'data': {'Distanc...   \n",
       "\n",
       "     sqft zipcode beds state stories   target  pool_encoded   Type  \n",
       "4     NaN   32908  NaN    FL     NaN   $5,000         False   land  \n",
       "6   1,507   34759  NaN    FL     One  181,500         False  other  \n",
       "7     NaN   38115  NaN    TN     NaN   68,000         False  other  \n",
       "11  3,130   77068  NaN    TX       2  260,000         False  other  \n",
       "40    NaN   33947  NaN    FL     NaN   54,000         False  other  "
      ]
     },
     "metadata": {},
     "output_type": "display_data"
    },
    {
     "name": "stdout",
     "output_type": "stream",
     "text": [
      "Процент выбранных строк от общего числа строк: 19.36%\n"
     ]
    }
   ],
   "source": [
    "# Отбираем строки по заданным условиям при помощи логических операций (& - \"и\", | - \"или\", ~ - \"не\")\n",
    "selected_rows = data[(data['baths'] == 0) & ((data['Type'] == 'other') | (data['Type'] == 'land') | (data['Type'] == 'ranch'))]\n",
    "\n",
    "# Выводим полученные строки\n",
    "display(selected_rows.head())\n",
    "# Находим процент выбранных строк от общего числа строк в исходном датафрейме\n",
    "percent_selected = len(selected_rows) / len(data) * 100\n",
    "# Выводим полученные строки и процент выбранных строк\n",
    "print(f\"Процент выбранных строк от общего числа строк: {percent_selected:.2f}%\")"
   ]
  },
  {
   "cell_type": "code",
   "execution_count": 24,
   "id": "947c6de7",
   "metadata": {},
   "outputs": [
    {
     "data": {
      "text/html": [
       "<div>\n",
       "<style scoped>\n",
       "    .dataframe tbody tr th:only-of-type {\n",
       "        vertical-align: middle;\n",
       "    }\n",
       "\n",
       "    .dataframe tbody tr th {\n",
       "        vertical-align: top;\n",
       "    }\n",
       "\n",
       "    .dataframe thead th {\n",
       "        text-align: right;\n",
       "    }\n",
       "</style>\n",
       "<table border=\"1\" class=\"dataframe\">\n",
       "  <thead>\n",
       "    <tr style=\"text-align: right;\">\n",
       "      <th></th>\n",
       "      <th>status</th>\n",
       "      <th>baths</th>\n",
       "      <th>homeFacts</th>\n",
       "      <th>fireplace</th>\n",
       "      <th>city</th>\n",
       "      <th>schools</th>\n",
       "      <th>sqft</th>\n",
       "      <th>zipcode</th>\n",
       "      <th>beds</th>\n",
       "      <th>state</th>\n",
       "      <th>stories</th>\n",
       "      <th>target</th>\n",
       "      <th>pool_encoded</th>\n",
       "      <th>Type</th>\n",
       "    </tr>\n",
       "  </thead>\n",
       "  <tbody>\n",
       "    <tr>\n",
       "      <th>5</th>\n",
       "      <td>For Sale</td>\n",
       "      <td>0.0</td>\n",
       "      <td>{'atAGlanceFacts': [{'factValue': '1920', 'fac...</td>\n",
       "      <td>NaN</td>\n",
       "      <td>Philadelphia</td>\n",
       "      <td>[{'rating': [], 'data': {'Distance': [], 'Grad...</td>\n",
       "      <td>897 sqft</td>\n",
       "      <td>19145</td>\n",
       "      <td>2 Beds</td>\n",
       "      <td>PA</td>\n",
       "      <td>2.0</td>\n",
       "      <td>$209,000</td>\n",
       "      <td>False</td>\n",
       "      <td>townhouse</td>\n",
       "    </tr>\n",
       "    <tr>\n",
       "      <th>15</th>\n",
       "      <td>For Sale</td>\n",
       "      <td>0.0</td>\n",
       "      <td>{'atAGlanceFacts': [{'factValue': '1905', 'fac...</td>\n",
       "      <td>NaN</td>\n",
       "      <td>Brooklyn</td>\n",
       "      <td>[{'rating': ['8', '8', '3'], 'data': {'Distanc...</td>\n",
       "      <td>NaN</td>\n",
       "      <td>11219</td>\n",
       "      <td>NaN</td>\n",
       "      <td>NY</td>\n",
       "      <td>NaN</td>\n",
       "      <td>1,650,000</td>\n",
       "      <td>False</td>\n",
       "      <td>single_family_home</td>\n",
       "    </tr>\n",
       "    <tr>\n",
       "      <th>17</th>\n",
       "      <td>Active</td>\n",
       "      <td>0.0</td>\n",
       "      <td>{'atAGlanceFacts': [{'factValue': '1899', 'fac...</td>\n",
       "      <td>NaN</td>\n",
       "      <td>New York</td>\n",
       "      <td>[{'rating': ['2', '5', '1', '2'], 'data': {'Di...</td>\n",
       "      <td>3,325</td>\n",
       "      <td>10027</td>\n",
       "      <td>NaN</td>\n",
       "      <td>NY</td>\n",
       "      <td>NaN</td>\n",
       "      <td>2,650,000</td>\n",
       "      <td>False</td>\n",
       "      <td>townhouse</td>\n",
       "    </tr>\n",
       "    <tr>\n",
       "      <th>35</th>\n",
       "      <td>For Sale</td>\n",
       "      <td>0.0</td>\n",
       "      <td>{'atAGlanceFacts': [{'factValue': '1981', 'fac...</td>\n",
       "      <td>NaN</td>\n",
       "      <td>Charlotte</td>\n",
       "      <td>[{'rating': ['7/10', '4/10', '8/10'], 'data': ...</td>\n",
       "      <td>900 sqft</td>\n",
       "      <td>28202</td>\n",
       "      <td>2 Beds</td>\n",
       "      <td>NC</td>\n",
       "      <td>NaN</td>\n",
       "      <td>$260,000</td>\n",
       "      <td>False</td>\n",
       "      <td>condo</td>\n",
       "    </tr>\n",
       "    <tr>\n",
       "      <th>71</th>\n",
       "      <td>For Sale</td>\n",
       "      <td>0.0</td>\n",
       "      <td>{'atAGlanceFacts': [{'factValue': '1918', 'fac...</td>\n",
       "      <td>NaN</td>\n",
       "      <td>Seattle</td>\n",
       "      <td>[{'rating': ['6/10', '3/10', '4/10'], 'data': ...</td>\n",
       "      <td>770 sqft</td>\n",
       "      <td>98106</td>\n",
       "      <td>2 Beds</td>\n",
       "      <td>WA</td>\n",
       "      <td>1.0</td>\n",
       "      <td>$475,000</td>\n",
       "      <td>False</td>\n",
       "      <td>single_family_home</td>\n",
       "    </tr>\n",
       "  </tbody>\n",
       "</table>\n",
       "</div>"
      ],
      "text/plain": [
       "      status  baths                                          homeFacts  \\\n",
       "5   For Sale    0.0  {'atAGlanceFacts': [{'factValue': '1920', 'fac...   \n",
       "15  For Sale    0.0  {'atAGlanceFacts': [{'factValue': '1905', 'fac...   \n",
       "17    Active    0.0  {'atAGlanceFacts': [{'factValue': '1899', 'fac...   \n",
       "35  For Sale    0.0  {'atAGlanceFacts': [{'factValue': '1981', 'fac...   \n",
       "71  For Sale    0.0  {'atAGlanceFacts': [{'factValue': '1918', 'fac...   \n",
       "\n",
       "   fireplace          city                                            schools  \\\n",
       "5        NaN  Philadelphia  [{'rating': [], 'data': {'Distance': [], 'Grad...   \n",
       "15       NaN      Brooklyn  [{'rating': ['8', '8', '3'], 'data': {'Distanc...   \n",
       "17       NaN      New York  [{'rating': ['2', '5', '1', '2'], 'data': {'Di...   \n",
       "35       NaN     Charlotte  [{'rating': ['7/10', '4/10', '8/10'], 'data': ...   \n",
       "71       NaN       Seattle  [{'rating': ['6/10', '3/10', '4/10'], 'data': ...   \n",
       "\n",
       "        sqft zipcode    beds state stories     target  pool_encoded  \\\n",
       "5   897 sqft   19145  2 Beds    PA     2.0   $209,000         False   \n",
       "15       NaN   11219     NaN    NY     NaN  1,650,000         False   \n",
       "17     3,325   10027     NaN    NY     NaN  2,650,000         False   \n",
       "35  900 sqft   28202  2 Beds    NC     NaN   $260,000         False   \n",
       "71  770 sqft   98106  2 Beds    WA     1.0   $475,000         False   \n",
       "\n",
       "                  Type  \n",
       "5            townhouse  \n",
       "15  single_family_home  \n",
       "17           townhouse  \n",
       "35               condo  \n",
       "71  single_family_home  "
      ]
     },
     "metadata": {},
     "output_type": "display_data"
    },
    {
     "name": "stdout",
     "output_type": "stream",
     "text": [
      "Уникальные значения признака Type в выбранных строках: ['townhouse' 'single_family_home' 'condo' 'apartment' 'modern'\n",
      " 'miscellaneous' 'multi_family_home' 'mobile_home' 'historical']\n",
      "Процент выбранных строк от общего числа строк: 10.25%\n"
     ]
    }
   ],
   "source": [
    "selected_rows = data[(data['baths'] == 0) & ~(data['Type'].isin(['other', 'land', 'ranch']))]\n",
    "display(selected_rows.head())\n",
    "# Находим уникальные значения признака status в выбранных строках\n",
    "unique_statuses = selected_rows['Type'].unique()\n",
    "# Выводим полученные строки и процент выбранных строк\n",
    "print(f\"Уникальные значения признака Type в выбранных строках: {unique_statuses}\")\n",
    "percent_selected = len(selected_rows) / len(data) * 100\n",
    "print(f\"Процент выбранных строк от общего числа строк: {percent_selected:.2f}%\")"
   ]
  },
  {
   "cell_type": "code",
   "execution_count": 25,
   "id": "7100190c",
   "metadata": {},
   "outputs": [
    {
     "name": "stdout",
     "output_type": "stream",
     "text": [
      "Количество пропущенных значений: 0\n",
      "Процент пропущенных значений: 0.00%\n",
      "Количество уникальных значений: 49\n",
      "Уникальные значения: [4.0, 3.0, 2.0, 8.0, 0.0, 5.0, 1.0, 7.0, 6.0, 9.0]\n"
     ]
    }
   ],
   "source": [
    "# выполним проверку\n",
    "missing_values_count = data.baths.isna().sum()\n",
    "total_count = len(data)\n",
    "missing_values_percentage = (missing_values_count / total_count) * 100\n",
    "\n",
    "print(f\"Количество пропущенных значений: {missing_values_count}\\n\"\n",
    "      f\"Процент пропущенных значений: {missing_values_percentage:.2f}%\\n\"\n",
    "      f\"Количество уникальных значений: {data.baths.nunique()}\\n\"\n",
    "      f\"Уникальные значения: {list(data.baths.unique()[:10])}\")"
   ]
  },
  {
   "cell_type": "markdown",
   "id": "372883f2",
   "metadata": {},
   "source": [
    "Итого имеем 29.61% мы заменили значением 0 из них 19.45% это ранчо чемля и иной тип что в полне может быть правдой и 10.10% 'таунхаус' 'дом на одну семью' 'кондоминиум' 'квартира' 'современный' 'разное' 'многосемейный_дом' 'мобильный_дом' 'исторический' из них минимум половина действительно может не иметь ванной комнаты, в целом такой результат можно считать приемлемым"
   ]
  },
  {
   "cell_type": "markdown",
   "id": "ded2b362",
   "metadata": {},
   "source": [
    "## Работаем над признаком homeFacts"
   ]
  },
  {
   "cell_type": "code",
   "execution_count": 26,
   "id": "b2b29425",
   "metadata": {},
   "outputs": [
    {
     "name": "stdout",
     "output_type": "stream",
     "text": [
      "Количество пропущенных значений: 0\n",
      "Процент пропущенных значений: 0.00%\n",
      "Количество уникальных значений: 321008\n",
      "Уникальные значения: [\"{'atAGlanceFacts': [{'factValue': '2019', 'factLabel': 'Year built'}, {'factValue': '', 'factLabel': 'Remodeled year'}, {'factValue': 'Central A/C, Heat Pump', 'factLabel': 'Heating'}, {'factValue': '', 'factLabel': 'Cooling'}, {'factValue': '', 'factLabel': 'Parking'}, {'factValue': None, 'factLabel': 'lotsize'}, {'factValue': '$144', 'factLabel': 'Price/sqft'}]}\"]\n"
     ]
    }
   ],
   "source": [
    "# выполним проверку\n",
    "missing_values_count = data.homeFacts.isna().sum()\n",
    "total_count = len(data)\n",
    "missing_values_percentage = (missing_values_count / total_count) * 100\n",
    "\n",
    "print(f\"Количество пропущенных значений: {missing_values_count}\\n\"\n",
    "f\"Процент пропущенных значений: {missing_values_percentage:.2f}%\\n\"\n",
    "f\"Количество уникальных значений: {data.homeFacts.nunique()}\\n\"\n",
    "f\"Уникальные значения: {list(data.homeFacts.unique()[:1])}\")"
   ]
  },
  {
   "cell_type": "code",
   "execution_count": 27,
   "id": "bf2e7086",
   "metadata": {},
   "outputs": [
    {
     "data": {
      "text/plain": [
       "[\"'Year built'\",\n",
       " \"'Remodeled year'\",\n",
       " \"'Heating'\",\n",
       " \"'Cooling'\",\n",
       " \"'Parking'\",\n",
       " \"'lotsize'\",\n",
       " \"'Price/sqft'\"]"
      ]
     },
     "execution_count": 27,
     "metadata": {},
     "output_type": "execute_result"
    }
   ],
   "source": [
    "label = data.homeFacts.str.findall(r\"\\bfactLabel': ([\\s\\S]+?)[}\\b]\")\n",
    "label[100]"
   ]
  },
  {
   "cell_type": "code",
   "execution_count": 28,
   "id": "d1ade3a8",
   "metadata": {},
   "outputs": [
    {
     "data": {
      "text/plain": [
       "0    ['2019', '', 'Central A/C, Heat Pump', '', '',...\n",
       "1    ['2019', '', '', '', '', '5828 sqft', '$159/sq...\n",
       "2    ['1961', '1967', 'Forced Air', 'Central', 'Att...\n",
       "3    ['2006', '2006', 'Forced Air', 'Central', 'Det...\n",
       "4            ['', '', '', '', '', '10,019 sqft', None]\n",
       "5    ['1920', '', 'Forced Air', 'Central', '', '680...\n",
       "6    ['2006', '2006', 'Electric, Heat Pump', 'Centr...\n",
       "7    ['1976', '', '', '', '', '8,750 Sq. Ft.', '$57...\n",
       "8    ['1970', '', 'Forced Air', 'Central', '', '124...\n",
       "9    ['2019', None, 'Gas', 'Central', 'Attached Gar...\n",
       "Name: homeFacts, dtype: object"
      ]
     },
     "execution_count": 28,
     "metadata": {},
     "output_type": "execute_result"
    }
   ],
   "source": [
    "Value = data.homeFacts.str.findall(r\"\\bfactValue': ([\\s\\S]+?), 'factLabel\\b\")\n",
    "Value[:10]"
   ]
  },
  {
   "cell_type": "code",
   "execution_count": 29,
   "id": "a865ab81",
   "metadata": {},
   "outputs": [
    {
     "data": {
      "text/plain": [
       "['Year built',\n",
       " 'Remodeled year',\n",
       " 'Heating',\n",
       " 'Cooling',\n",
       " 'Parking',\n",
       " 'lotsize',\n",
       " 'Price/sqft']"
      ]
     },
     "execution_count": 29,
     "metadata": {},
     "output_type": "execute_result"
    }
   ],
   "source": [
    "# создадим список названий признаков, удалив лишние кавычки\n",
    "list_label = ','.join(label[0]).replace(\"'\",\"\").split(',')\n",
    "list_label"
   ]
  },
  {
   "cell_type": "code",
   "execution_count": 30,
   "id": "13626a91",
   "metadata": {},
   "outputs": [],
   "source": [
    "# Создадим эти признаки в нашем фрейме и заполним значениями\n",
    "for i, val in enumerate(list_label):\n",
    "    data[val]=Value.apply(lambda x: x[i])"
   ]
  },
  {
   "cell_type": "code",
   "execution_count": 31,
   "id": "b36c91d9",
   "metadata": {},
   "outputs": [],
   "source": [
    "# Теперь признак homeFacts можно удалить\n",
    "data = data.drop('homeFacts', axis=1)"
   ]
  },
  {
   "cell_type": "markdown",
   "id": "bf4b41d0",
   "metadata": {},
   "source": [
    "В результате выполнения этого кода данные из столбца homeFacts будут разбиты на отдельные столбцы по атрибутам, таким как 'Year built', 'Remodeled year', 'Heating' и т.д., что позволит использовать их для дальнейшего анализа и моделирования."
   ]
  },
  {
   "cell_type": "markdown",
   "id": "b6ab223c",
   "metadata": {},
   "source": [
    "## Разбираем признак Year built "
   ]
  },
  {
   "cell_type": "code",
   "execution_count": 32,
   "id": "ff09fdb6",
   "metadata": {},
   "outputs": [
    {
     "name": "stdout",
     "output_type": "stream",
     "text": [
      "Первичные уникальные значения 'Year built' (первые 10):\n",
      "[\"''\", \"'1'\", \"'1019'\", \"'1057'\", \"'1060'\", \"'1208'\", \"'1700'\", \"'1703'\", \"'1735'\", \"'1740'\"]\n"
     ]
    }
   ],
   "source": [
    "# Выведем первоначальные уникальные значения столбца \"Year built\" для ознакомления\n",
    "print(\"Первичные уникальные значения 'Year built' (первые 10):\")\n",
    "print(sorted(data['Year built'].unique())[:10])"
   ]
  },
  {
   "cell_type": "code",
   "execution_count": 33,
   "id": "57bd82ab",
   "metadata": {},
   "outputs": [
    {
     "name": "stdout",
     "output_type": "stream",
     "text": [
      "Обработка столбца 'Year built' завершена.\n",
      "Уникальные значения 'Year built' (первые 10):\n",
      "['1700', '1703', '1735', '1740', '1750', '1780', '1788', '1790', '1794', '1795']\n"
     ]
    }
   ],
   "source": [
    "# Удаляем лишние кавычки\n",
    "data['Year built'] = data['Year built'].str.replace(\"'\", \"\", regex=True)\n",
    "# Замена пустых строк на 'no date'\n",
    "data['Year built'] = data['Year built'].str.replace(r\"^\\s*$\", \"no date\", regex=True)\n",
    "# Определяем список некорректных значений и заменяем их на 'no date'\n",
    "invalid_values = ['1', '1208', '559990649990', '2025', 'No Data', 'None']\n",
    "data.loc[data['Year built'].isin(invalid_values), 'Year built'] = 'no date'\n",
    "# Исправляем опечатки\n",
    "corrections = {'1019': '1919', '1057': '1957', '1060': '1960'}\n",
    "data['Year built'] = data['Year built'].replace(corrections)\n",
    "# Выводим результат обработки\n",
    "print(\"Обработка столбца 'Year built' завершена.\")\n",
    "print(\"Уникальные значения 'Year built' (первые 10):\")\n",
    "print(sorted(data['Year built'].unique())[:10])"
   ]
  },
  {
   "cell_type": "code",
   "execution_count": 34,
   "id": "36b60057",
   "metadata": {},
   "outputs": [
    {
     "name": "stdout",
     "output_type": "stream",
     "text": [
      "Отобранные строки:\n"
     ]
    },
    {
     "data": {
      "text/html": [
       "<div>\n",
       "<style scoped>\n",
       "    .dataframe tbody tr th:only-of-type {\n",
       "        vertical-align: middle;\n",
       "    }\n",
       "\n",
       "    .dataframe tbody tr th {\n",
       "        vertical-align: top;\n",
       "    }\n",
       "\n",
       "    .dataframe thead th {\n",
       "        text-align: right;\n",
       "    }\n",
       "</style>\n",
       "<table border=\"1\" class=\"dataframe\">\n",
       "  <thead>\n",
       "    <tr style=\"text-align: right;\">\n",
       "      <th></th>\n",
       "      <th>status</th>\n",
       "      <th>baths</th>\n",
       "      <th>fireplace</th>\n",
       "      <th>city</th>\n",
       "      <th>schools</th>\n",
       "      <th>sqft</th>\n",
       "      <th>zipcode</th>\n",
       "      <th>beds</th>\n",
       "      <th>state</th>\n",
       "      <th>stories</th>\n",
       "      <th>target</th>\n",
       "      <th>pool_encoded</th>\n",
       "      <th>Type</th>\n",
       "      <th>Year built</th>\n",
       "      <th>Remodeled year</th>\n",
       "      <th>Heating</th>\n",
       "      <th>Cooling</th>\n",
       "      <th>Parking</th>\n",
       "      <th>lotsize</th>\n",
       "      <th>Price/sqft</th>\n",
       "    </tr>\n",
       "  </thead>\n",
       "  <tbody>\n",
       "    <tr>\n",
       "      <th>4</th>\n",
       "      <td>For Sale</td>\n",
       "      <td>0.0</td>\n",
       "      <td>NaN</td>\n",
       "      <td>Palm Bay</td>\n",
       "      <td>[{'rating': ['4/10', '5/10', '5/10'], 'data': ...</td>\n",
       "      <td>NaN</td>\n",
       "      <td>32908</td>\n",
       "      <td>NaN</td>\n",
       "      <td>FL</td>\n",
       "      <td>NaN</td>\n",
       "      <td>$5,000</td>\n",
       "      <td>False</td>\n",
       "      <td>land</td>\n",
       "      <td>no date</td>\n",
       "      <td>''</td>\n",
       "      <td>''</td>\n",
       "      <td>''</td>\n",
       "      <td>''</td>\n",
       "      <td>'10,019 sqft'</td>\n",
       "      <td>None</td>\n",
       "    </tr>\n",
       "    <tr>\n",
       "      <th>26</th>\n",
       "      <td>Active</td>\n",
       "      <td>1.0</td>\n",
       "      <td>NaN</td>\n",
       "      <td>Miami</td>\n",
       "      <td>[{'rating': ['9', '10', 'NR', '6', '3'], 'data...</td>\n",
       "      <td>NaN</td>\n",
       "      <td>33183</td>\n",
       "      <td>Baths</td>\n",
       "      <td>FL</td>\n",
       "      <td>NaN</td>\n",
       "      <td>799,000</td>\n",
       "      <td>False</td>\n",
       "      <td>other</td>\n",
       "      <td>no date</td>\n",
       "      <td>''</td>\n",
       "      <td>''</td>\n",
       "      <td>''</td>\n",
       "      <td>''</td>\n",
       "      <td>'—'</td>\n",
       "      <td>None</td>\n",
       "    </tr>\n",
       "    <tr>\n",
       "      <th>40</th>\n",
       "      <td>Active</td>\n",
       "      <td>0.0</td>\n",
       "      <td>NaN</td>\n",
       "      <td>ROTONDA WEST</td>\n",
       "      <td>[{'rating': ['6', '6', '7'], 'data': {'Distanc...</td>\n",
       "      <td>NaN</td>\n",
       "      <td>33947</td>\n",
       "      <td>NaN</td>\n",
       "      <td>FL</td>\n",
       "      <td>NaN</td>\n",
       "      <td>54,000</td>\n",
       "      <td>False</td>\n",
       "      <td>other</td>\n",
       "      <td>no date</td>\n",
       "      <td>''</td>\n",
       "      <td>''</td>\n",
       "      <td>''</td>\n",
       "      <td>''</td>\n",
       "      <td>'—'</td>\n",
       "      <td>None</td>\n",
       "    </tr>\n",
       "    <tr>\n",
       "      <th>41</th>\n",
       "      <td>For Sale</td>\n",
       "      <td>0.0</td>\n",
       "      <td>NaN</td>\n",
       "      <td>San Diego</td>\n",
       "      <td>[{'rating': ['9/10', '9/10', '9/10'], 'data': ...</td>\n",
       "      <td>NaN</td>\n",
       "      <td>92127</td>\n",
       "      <td>NaN</td>\n",
       "      <td>CA</td>\n",
       "      <td>NaN</td>\n",
       "      <td>$1,100,000</td>\n",
       "      <td>False</td>\n",
       "      <td>land</td>\n",
       "      <td>no date</td>\n",
       "      <td>''</td>\n",
       "      <td>''</td>\n",
       "      <td>''</td>\n",
       "      <td>''</td>\n",
       "      <td>'9.25 acres'</td>\n",
       "      <td>None</td>\n",
       "    </tr>\n",
       "    <tr>\n",
       "      <th>42</th>\n",
       "      <td>Active</td>\n",
       "      <td>0.0</td>\n",
       "      <td>NaN</td>\n",
       "      <td>New York</td>\n",
       "      <td>[{'rating': ['NR', 'NR', '9', '8', '8', '2', '...</td>\n",
       "      <td>NaN</td>\n",
       "      <td>10006</td>\n",
       "      <td>NaN</td>\n",
       "      <td>NY</td>\n",
       "      <td>NaN</td>\n",
       "      <td>850,000</td>\n",
       "      <td>False</td>\n",
       "      <td>other</td>\n",
       "      <td>no date</td>\n",
       "      <td>'2003'</td>\n",
       "      <td>''</td>\n",
       "      <td>''</td>\n",
       "      <td>''</td>\n",
       "      <td>'—'</td>\n",
       "      <td>None</td>\n",
       "    </tr>\n",
       "  </tbody>\n",
       "</table>\n",
       "</div>"
      ],
      "text/plain": [
       "      status  baths fireplace          city  \\\n",
       "4   For Sale    0.0       NaN      Palm Bay   \n",
       "26    Active    1.0       NaN         Miami   \n",
       "40    Active    0.0       NaN  ROTONDA WEST   \n",
       "41  For Sale    0.0       NaN     San Diego   \n",
       "42    Active    0.0       NaN      New York   \n",
       "\n",
       "                                              schools sqft zipcode   beds  \\\n",
       "4   [{'rating': ['4/10', '5/10', '5/10'], 'data': ...  NaN   32908    NaN   \n",
       "26  [{'rating': ['9', '10', 'NR', '6', '3'], 'data...  NaN   33183  Baths   \n",
       "40  [{'rating': ['6', '6', '7'], 'data': {'Distanc...  NaN   33947    NaN   \n",
       "41  [{'rating': ['9/10', '9/10', '9/10'], 'data': ...  NaN   92127    NaN   \n",
       "42  [{'rating': ['NR', 'NR', '9', '8', '8', '2', '...  NaN   10006    NaN   \n",
       "\n",
       "   state stories      target  pool_encoded   Type Year built Remodeled year  \\\n",
       "4     FL     NaN      $5,000         False   land    no date             ''   \n",
       "26    FL     NaN     799,000         False  other    no date             ''   \n",
       "40    FL     NaN      54,000         False  other    no date             ''   \n",
       "41    CA     NaN  $1,100,000         False   land    no date             ''   \n",
       "42    NY     NaN     850,000         False  other    no date         '2003'   \n",
       "\n",
       "   Heating Cooling Parking        lotsize Price/sqft  \n",
       "4       ''      ''      ''  '10,019 sqft'       None  \n",
       "26      ''      ''      ''            '—'       None  \n",
       "40      ''      ''      ''            '—'       None  \n",
       "41      ''      ''      ''   '9.25 acres'       None  \n",
       "42      ''      ''      ''            '—'       None  "
      ]
     },
     "metadata": {},
     "output_type": "display_data"
    },
    {
     "name": "stdout",
     "output_type": "stream",
     "text": [
      "\n",
      "Выбрано строк: 44783\n",
      "Процент выбранных строк от общего числа: 11.88%\n"
     ]
    }
   ],
   "source": [
    "# Отбираем строки, где \"Year built\" равен 'no date' и тип недвижимости (Type) равен 'other', 'land' или 'ranch'\n",
    "selected_rows = data[(data['Year built'] == 'no date') & (data['Type'].isin(['other', 'land', 'ranch']))]\n",
    "# Выводим первые несколько строк отобранных данных\n",
    "print(\"Отобранные строки:\")\n",
    "display(selected_rows.head())\n",
    "# Рассчитываем процент выбранных строк от общего числа строк\n",
    "percent_selected = (len(selected_rows) / len(data)) * 100\n",
    "print(f\"\\nВыбрано строк: {len(selected_rows)}\")\n",
    "print(f\"Процент выбранных строк от общего числа: {percent_selected:.2f}%\")"
   ]
  },
  {
   "cell_type": "markdown",
   "id": "87d468c7",
   "metadata": {},
   "source": [
    "Таким образом, в результате обработки столбца «Year built» все некорректные и пропущенные значения заменены на 'no date', а опечатки скорректированы."
   ]
  },
  {
   "cell_type": "code",
   "execution_count": 35,
   "id": "3141c9a7",
   "metadata": {},
   "outputs": [
    {
     "data": {
      "text/html": [
       "<div>\n",
       "<style scoped>\n",
       "    .dataframe tbody tr th:only-of-type {\n",
       "        vertical-align: middle;\n",
       "    }\n",
       "\n",
       "    .dataframe tbody tr th {\n",
       "        vertical-align: top;\n",
       "    }\n",
       "\n",
       "    .dataframe thead th {\n",
       "        text-align: right;\n",
       "    }\n",
       "</style>\n",
       "<table border=\"1\" class=\"dataframe\">\n",
       "  <thead>\n",
       "    <tr style=\"text-align: right;\">\n",
       "      <th></th>\n",
       "      <th>status</th>\n",
       "      <th>baths</th>\n",
       "      <th>fireplace</th>\n",
       "      <th>city</th>\n",
       "      <th>schools</th>\n",
       "      <th>sqft</th>\n",
       "      <th>zipcode</th>\n",
       "      <th>beds</th>\n",
       "      <th>state</th>\n",
       "      <th>stories</th>\n",
       "      <th>target</th>\n",
       "      <th>pool_encoded</th>\n",
       "      <th>Type</th>\n",
       "      <th>Year built</th>\n",
       "      <th>Remodeled year</th>\n",
       "      <th>Heating</th>\n",
       "      <th>Cooling</th>\n",
       "      <th>Parking</th>\n",
       "      <th>lotsize</th>\n",
       "      <th>Price/sqft</th>\n",
       "    </tr>\n",
       "  </thead>\n",
       "  <tbody>\n",
       "    <tr>\n",
       "      <th>27</th>\n",
       "      <td>For Sale</td>\n",
       "      <td>3.0</td>\n",
       "      <td>NaN</td>\n",
       "      <td>Houston</td>\n",
       "      <td>[{'rating': ['6/10', '9/10', '3/10'], 'data': ...</td>\n",
       "      <td>2,575 sqft</td>\n",
       "      <td>77018</td>\n",
       "      <td>3 Beds</td>\n",
       "      <td>TX</td>\n",
       "      <td>NaN</td>\n",
       "      <td>$499,900</td>\n",
       "      <td>False</td>\n",
       "      <td>single_family_home</td>\n",
       "      <td>no date</td>\n",
       "      <td>''</td>\n",
       "      <td>''</td>\n",
       "      <td>''</td>\n",
       "      <td>''</td>\n",
       "      <td>'3828 sqft'</td>\n",
       "      <td>'$194/sqft'</td>\n",
       "    </tr>\n",
       "    <tr>\n",
       "      <th>57</th>\n",
       "      <td>For Sale</td>\n",
       "      <td>2.0</td>\n",
       "      <td>NaN</td>\n",
       "      <td>Durham</td>\n",
       "      <td>[{'rating': ['3/10', '4/10', '3/10'], 'data': ...</td>\n",
       "      <td>1,681 sqft</td>\n",
       "      <td>27713</td>\n",
       "      <td>3 Beds</td>\n",
       "      <td>NC</td>\n",
       "      <td>2.0</td>\n",
       "      <td>$259,658</td>\n",
       "      <td>False</td>\n",
       "      <td>townhouse</td>\n",
       "      <td>no date</td>\n",
       "      <td>''</td>\n",
       "      <td>''</td>\n",
       "      <td>''</td>\n",
       "      <td>''</td>\n",
       "      <td>''</td>\n",
       "      <td>'$154/sqft'</td>\n",
       "    </tr>\n",
       "    <tr>\n",
       "      <th>59</th>\n",
       "      <td>For Sale</td>\n",
       "      <td>2.0</td>\n",
       "      <td>NaN</td>\n",
       "      <td>Temple Terrace</td>\n",
       "      <td>[{'rating': ['2/10', '3/10', '2/10'], 'data': ...</td>\n",
       "      <td>1,504 sqft</td>\n",
       "      <td>33637</td>\n",
       "      <td>3 Beds</td>\n",
       "      <td>FL</td>\n",
       "      <td>1.0</td>\n",
       "      <td>$244,990</td>\n",
       "      <td>False</td>\n",
       "      <td>single_family_home</td>\n",
       "      <td>no date</td>\n",
       "      <td>''</td>\n",
       "      <td>''</td>\n",
       "      <td>''</td>\n",
       "      <td>''</td>\n",
       "      <td>''</td>\n",
       "      <td>'$163/sqft'</td>\n",
       "    </tr>\n",
       "    <tr>\n",
       "      <th>83</th>\n",
       "      <td>For Sale</td>\n",
       "      <td>3.0</td>\n",
       "      <td>NaN</td>\n",
       "      <td>Spring</td>\n",
       "      <td>[{'rating': ['9/10', '9/10', '8/10'], 'data': ...</td>\n",
       "      <td>2,265 sqft</td>\n",
       "      <td>77386</td>\n",
       "      <td>4 Beds</td>\n",
       "      <td>TX</td>\n",
       "      <td>1.0</td>\n",
       "      <td>$299,999</td>\n",
       "      <td>False</td>\n",
       "      <td>single_family_home</td>\n",
       "      <td>no date</td>\n",
       "      <td>''</td>\n",
       "      <td>''</td>\n",
       "      <td>''</td>\n",
       "      <td>''</td>\n",
       "      <td>''</td>\n",
       "      <td>'$132/sqft'</td>\n",
       "    </tr>\n",
       "    <tr>\n",
       "      <th>91</th>\n",
       "      <td>Active</td>\n",
       "      <td>2.0</td>\n",
       "      <td>NaN</td>\n",
       "      <td>Port Charlotte</td>\n",
       "      <td>[{'rating': ['5', '4', '6', '1', 'NR', 'NR', '...</td>\n",
       "      <td>1,702</td>\n",
       "      <td>33953</td>\n",
       "      <td>3</td>\n",
       "      <td>FL</td>\n",
       "      <td>NaN</td>\n",
       "      <td>$235,900</td>\n",
       "      <td>False</td>\n",
       "      <td>single_family_home</td>\n",
       "      <td>no date</td>\n",
       "      <td>''</td>\n",
       "      <td>''</td>\n",
       "      <td>''</td>\n",
       "      <td>''</td>\n",
       "      <td>None</td>\n",
       "      <td>'$139'</td>\n",
       "    </tr>\n",
       "  </tbody>\n",
       "</table>\n",
       "</div>"
      ],
      "text/plain": [
       "      status  baths fireplace            city  \\\n",
       "27  For Sale    3.0       NaN         Houston   \n",
       "57  For Sale    2.0       NaN          Durham   \n",
       "59  For Sale    2.0       NaN  Temple Terrace   \n",
       "83  For Sale    3.0       NaN          Spring   \n",
       "91    Active    2.0       NaN  Port Charlotte   \n",
       "\n",
       "                                              schools        sqft zipcode  \\\n",
       "27  [{'rating': ['6/10', '9/10', '3/10'], 'data': ...  2,575 sqft   77018   \n",
       "57  [{'rating': ['3/10', '4/10', '3/10'], 'data': ...  1,681 sqft   27713   \n",
       "59  [{'rating': ['2/10', '3/10', '2/10'], 'data': ...  1,504 sqft   33637   \n",
       "83  [{'rating': ['9/10', '9/10', '8/10'], 'data': ...  2,265 sqft   77386   \n",
       "91  [{'rating': ['5', '4', '6', '1', 'NR', 'NR', '...       1,702   33953   \n",
       "\n",
       "      beds state stories    target  pool_encoded                Type  \\\n",
       "27  3 Beds    TX     NaN  $499,900         False  single_family_home   \n",
       "57  3 Beds    NC     2.0  $259,658         False           townhouse   \n",
       "59  3 Beds    FL     1.0  $244,990         False  single_family_home   \n",
       "83  4 Beds    TX     1.0  $299,999         False  single_family_home   \n",
       "91       3    FL     NaN  $235,900         False  single_family_home   \n",
       "\n",
       "   Year built Remodeled year Heating Cooling Parking      lotsize   Price/sqft  \n",
       "27    no date             ''      ''      ''      ''  '3828 sqft'  '$194/sqft'  \n",
       "57    no date             ''      ''      ''      ''           ''  '$154/sqft'  \n",
       "59    no date             ''      ''      ''      ''           ''  '$163/sqft'  \n",
       "83    no date             ''      ''      ''      ''           ''  '$132/sqft'  \n",
       "91    no date             ''      ''      ''      ''         None       '$139'  "
      ]
     },
     "metadata": {},
     "output_type": "display_data"
    }
   ],
   "source": [
    "# Фильтруем строки: 'Year built' равен 'no date' и 'Type' не входит в ['other', 'land', 'ranch']\n",
    "selected_rows = data[(data['Year built'] == 'no date') & (~data['Type'].isin(['other', 'land', 'ranch']))]\n",
    "display(selected_rows.head())"
   ]
  },
  {
   "cell_type": "code",
   "execution_count": 36,
   "id": "dea66f18",
   "metadata": {},
   "outputs": [
    {
     "name": "stdout",
     "output_type": "stream",
     "text": [
      "Уникальные значения признака 'Type' в выбранных строках: ['single_family_home' 'townhouse' 'condo' 'miscellaneous'\n",
      " 'multi_family_home' 'apartment' 'mobile_home' 'modern']\n",
      "Количество выбранных строк: 18700\n",
      "Процент выбранных строк от общего числа строк: 4.96%\n"
     ]
    }
   ],
   "source": [
    "# Находим уникальные значения признака 'Type' в выбранных строках\n",
    "unique_types = selected_rows['Type'].unique()\n",
    "# Вычисляем процент выбранных строк от общего числа строк\n",
    "percent_selected = len(selected_rows) / len(data) * 100\n",
    "# Вывод результатов\n",
    "print(\"Уникальные значения признака 'Type' в выбранных строках:\", unique_types)\n",
    "print(\"Количество выбранных строк:\", len(selected_rows))\n",
    "print(f\"Процент выбранных строк от общего числа строк: {percent_selected:.2f}%\")"
   ]
  },
  {
   "cell_type": "code",
   "execution_count": 37,
   "id": "02073b06",
   "metadata": {},
   "outputs": [
    {
     "name": "stdout",
     "output_type": "stream",
     "text": [
      "Количество пропущенных значений: 0\n",
      "Процент пропущенных значений: 0.00%\n",
      "Количество уникальных значений: 222\n",
      "Уникальные значения: ['1700', '1703', '1735', '1740', '1750', '1780', '1788', '1790', '1794', '1795']\n"
     ]
    }
   ],
   "source": [
    "# выполним проверку\n",
    "missing_values_count = data['Year built'].isna().sum()\n",
    "total_count = len(data)\n",
    "missing_values_percentage = (missing_values_count / total_count) * 100\n",
    "\n",
    "print(f\"Количество пропущенных значений: {missing_values_count}\\n\"\n",
    "f\"Процент пропущенных значений: {missing_values_percentage:.2f}%\\n\"\n",
    "f\"Количество уникальных значений: {data['Year built'].nunique()}\\n\"\n",
    "f\"Уникальные значения: {list(data['Year built'].sort_values().unique()[:10])}\")"
   ]
  },
  {
   "cell_type": "code",
   "execution_count": 38,
   "id": "24c2b8fb",
   "metadata": {},
   "outputs": [
    {
     "name": "stdout",
     "output_type": "stream",
     "text": [
      "Процент no date: 16.84%\n",
      "Количество no date: 63483\n"
     ]
    }
   ],
   "source": [
    "# посмотрим на колличество no date в %\n",
    "print(f\"Процент no date: {round(data[data['Year built']=='no date'].shape[0]/data.shape[0]*100, 2)}%\")\n",
    "print(f\"Количество no date: {data.loc[data['Year built']=='no date', 'Year built'].count()}\")"
   ]
  },
  {
   "cell_type": "markdown",
   "id": "03da8287",
   "metadata": {},
   "source": [
    "Большая часть значений \"no date\" соответствует типу \"земля ранчо\" (11.88%), что выглядит вполне правдоподобно. Для остальных типов \"no date\" составляют 4.96% – это достаточно много, чтобы негативно сказаться на качестве данных, но при этом удалять такие строки было бы слишком рискованно, а заполнение года постройки случайными значениями не оправдано. Поэтому лучше оставить эти значения как есть."
   ]
  },
  {
   "cell_type": "markdown",
   "id": "f2beee21",
   "metadata": {},
   "source": [
    "## Разбираем признак Remodeled year"
   ]
  },
  {
   "cell_type": "code",
   "execution_count": 39,
   "id": "3bcd7fb3",
   "metadata": {},
   "outputs": [
    {
     "name": "stdout",
     "output_type": "stream",
     "text": [
      "Уникальные значения до обработки: ['' '0' '1111' '1738' '1800' '1845' '1846' '1853' '1862' '1869']\n"
     ]
    }
   ],
   "source": [
    "# Удаляем лишние одинарные кавычки\n",
    "data['Remodeled year'] = data['Remodeled year'].str.replace(\"'\", \"\", regex=True)\n",
    "# Просмотр уникальных значений до замены некорректных записей\n",
    "unique_before = data['Remodeled year'].sort_values().unique()\n",
    "print(\"Уникальные значения до обработки:\", unique_before[:10])"
   ]
  },
  {
   "cell_type": "code",
   "execution_count": 40,
   "id": "529b0cc6",
   "metadata": {},
   "outputs": [
    {
     "name": "stdout",
     "output_type": "stream",
     "text": [
      "Уникальные значения после замены: ['1738' '1800' '1845' '1846' '1853' '1862' '1869' '1870' '1874' '1876']\n"
     ]
    }
   ],
   "source": [
    "# Определяем список некорректных значений\n",
    "incorrect_vals = ['', '0', '1111']\n",
    "# Заменяем указанные значения на 'None'\n",
    "data.loc[data['Remodeled year'].isin(incorrect_vals), 'Remodeled year'] = 'None'\n",
    "# Просмотр уникальных значений после замены\n",
    "unique_after = data['Remodeled year'].sort_values().unique()\n",
    "print(\"Уникальные значения после замены:\", unique_after[:10])"
   ]
  },
  {
   "cell_type": "code",
   "execution_count": 41,
   "id": "5604e290",
   "metadata": {},
   "outputs": [
    {
     "name": "stdout",
     "output_type": "stream",
     "text": [
      "Количество пропущенных значений: 0\n",
      "Процент пропущенных значений: 0.00%\n",
      "Количество уникальных значений: 152\n",
      "Уникальные значения: ['1738', '1800', '1845', '1846', '1853', '1862', '1869', '1870', '1874', '1876']\n",
      "Процент 'None': 60.0%\n",
      "Количество 'None': 226240\n"
     ]
    }
   ],
   "source": [
    "# Проверим количество пропущенных (NaN) значений\n",
    "missing_count = data['Remodeled year'].isna().sum()\n",
    "total_rows = len(data)\n",
    "missing_percentage = (missing_count / total_rows) * 100\n",
    "print(f\"Количество пропущенных значений: {missing_count}\")\n",
    "print(f\"Процент пропущенных значений: {missing_percentage:.2f}%\")\n",
    "print(f\"Количество уникальных значений: {data['Remodeled year'].nunique()}\")\n",
    "print(f\"Уникальные значения: {list(unique_after[:10])}\")\n",
    "# Подсчитаем, сколько записей равно строке 'None'\n",
    "none_count = data[data['Remodeled year'] == 'None'].shape[0]\n",
    "none_percentage = round((none_count / total_rows) * 100, 2)\n",
    "print(f\"Процент 'None': {none_percentage}%\")\n",
    "print(f\"Количество 'None': {none_count}\")"
   ]
  },
  {
   "cell_type": "code",
   "execution_count": 42,
   "id": "0fe9c08e",
   "metadata": {},
   "outputs": [
    {
     "name": "stdout",
     "output_type": "stream",
     "text": [
      "Признак 'Remodeled year' удалён. Текущие столбцы: ['status', 'baths', 'fireplace', 'city', 'schools', 'sqft', 'zipcode', 'beds', 'state', 'stories', 'target', 'pool_encoded', 'Type', 'Year built', 'Heating', 'Cooling', 'Parking', 'lotsize', 'Price/sqft']\n"
     ]
    }
   ],
   "source": [
    "# Если полученный процент 'None' слишком велик (например, 60% как в примере), удаляем признак\n",
    "data = data.drop('Remodeled year', axis=1)\n",
    "print(\"Признак 'Remodeled year' удалён. Текущие столбцы:\", list(data.columns))"
   ]
  },
  {
   "cell_type": "markdown",
   "id": "3294c021",
   "metadata": {},
   "source": [
    "## Обрабатываем признак heating"
   ]
  },
  {
   "cell_type": "code",
   "execution_count": 43,
   "id": "73823180",
   "metadata": {},
   "outputs": [
    {
     "name": "stdout",
     "output_type": "stream",
     "text": [
      "Распределение значений Heating (до кодирования):\n",
      "Heating\n",
      "forced air          134307\n",
      "                    105670\n",
      "other                29622\n",
      "electric             10216\n",
      "gas                   9295\n",
      "heat pump             8851\n",
      "no data               8610\n",
      "central air           7814\n",
      "central electric      7112\n",
      "central               6247\n",
      "Name: count, dtype: int64\n",
      "\n",
      "Проверка показателей Heating_encoded:\n",
      "Количество пропущенных значений: 0\n",
      "Процент пропущенных значений: 0.00%\n",
      "Количество уникальных значений: 2\n",
      "Уникальные значения: [False, True]\n",
      "\n",
      "Столбец 'Heating' удалён.\n"
     ]
    }
   ],
   "source": [
    "# Удаляем лишние кавычки и приводим строки к нижнему регистру\n",
    "data['Heating'] = data['Heating'].str.replace(\"'\", \"\", regex=True).str.lower()\n",
    "# Выводим топ-10 наиболее частых значений\n",
    "print(\"Распределение значений Heating (до кодирования):\")\n",
    "print(data['Heating'].value_counts().head(10))\n",
    "# Кодируем значение: если отопление указано (не пусто, не \"no data\", не \"none\"), то True, иначе False\n",
    "data['Heating_encoded'] = data['Heating'].apply(lambda x: True if x not in ['', 'no data', 'none'] else False)\n",
    "# Проверим результаты кодирования\n",
    "print(\"\\nПроверка показателей Heating_encoded:\")\n",
    "missing_values_count = data['Heating_encoded'].isna().sum()\n",
    "total_count = len(data)\n",
    "missing_percentage = (missing_values_count / total_count) * 100\n",
    "unique_values = data['Heating_encoded'].unique()\n",
    "print(f\"Количество пропущенных значений: {missing_values_count}\")\n",
    "print(f\"Процент пропущенных значений: {missing_percentage:.2f}%\")\n",
    "print(f\"Количество уникальных значений: {len(unique_values)}\")\n",
    "print(f\"Уникальные значения: {sorted(unique_values)}\")\n",
    "# Удаляем исходный признак Heating, так как он заменён новыми данными\n",
    "data = data.drop('Heating', axis=1)\n",
    "print(\"\\nСтолбец 'Heating' удалён.\")"
   ]
  },
  {
   "cell_type": "markdown",
   "id": "8bd009ea",
   "metadata": {},
   "source": [
    "После обработки признак Heating был очищен от лишних символов, сконвертирован в нижний регистр, и создан булев признак Heating_encoded. Записи с пустыми значениями или помеченные как \"no data\"/\"none\" получили значение False, а все остальные – True. Исходный столбец удалён."
   ]
  },
  {
   "cell_type": "markdown",
   "id": "40652c20",
   "metadata": {},
   "source": [
    "## обработаем признак cooling"
   ]
  },
  {
   "cell_type": "code",
   "execution_count": 44,
   "id": "f2fdd539",
   "metadata": {},
   "outputs": [
    {
     "name": "stdout",
     "output_type": "stream",
     "text": [
      "Распределение значений Cooling (до кодирования):\n",
      "Cooling\n",
      "central             158742\n",
      "                    120306\n",
      "central air          14384\n",
      "none                 10923\n",
      "no data              10615\n",
      "has cooling           9730\n",
      "central electric      6154\n",
      "wall                  4017\n",
      "central gas           3573\n",
      "central heating       2807\n",
      "Name: count, dtype: int64\n",
      "\n",
      "Проверка показателей Cooling_encoded:\n",
      "Cooling_encoded\n",
      "True     235198\n",
      "False    141844\n",
      "Name: count, dtype: int64\n",
      "\n",
      "Столбец 'Cooling' удалён.\n"
     ]
    }
   ],
   "source": [
    "# Удаляем лишние кавычки и приводим значения к нижнему регистру\n",
    "data['Cooling'] = data['Cooling'].str.replace(\"'\", \"\", regex=True).str.lower()\n",
    "# Выводим распределение значений Cooling (топ-10)\n",
    "print(\"Распределение значений Cooling (до кодирования):\")\n",
    "print(data['Cooling'].value_counts().head(10))\n",
    "# Кодируем признак Cooling аналогично Heating:\n",
    "# Если присутствует значение, отличное от ['', 'no data', 'none'], то считаем, что охлаждение имеется (True)\n",
    "data['Cooling_encoded'] = data['Cooling'].apply(lambda x: True if x not in ['', 'no data', 'none'] else False)\n",
    "# Проверяем результаты кодирования - можно вывести уникальные значения\n",
    "print(\"\\nПроверка показателей Cooling_encoded:\")\n",
    "print(data['Cooling_encoded'].value_counts())\n",
    "# Удаляем исходный признак Cooling\n",
    "data = data.drop('Cooling', axis=1)\n",
    "print(\"\\nСтолбец 'Cooling' удалён.\")"
   ]
  },
  {
   "cell_type": "markdown",
   "id": "ea407d56",
   "metadata": {},
   "source": [
    "Признак Cooling обработан аналогично Heating – значения очищены и переведены в нижний регистр, после чего создан новый булев признак Cooling_encoded, который принимает True, если охлаждение присутствует, и False в противном случае. Исходный столбец Cooling удаляется, чтобы избежать дублирования информации."
   ]
  },
  {
   "cell_type": "markdown",
   "id": "12c35ec3",
   "metadata": {},
   "source": [
    "## Обработаем признак Parking"
   ]
  },
  {
   "cell_type": "code",
   "execution_count": 45,
   "id": "28b114cc",
   "metadata": {},
   "outputs": [
    {
     "name": "stdout",
     "output_type": "stream",
     "text": [
      "Распределение значений 'Parking' до кодирования:\n",
      "Parking\n",
      "                   171755\n",
      "attached garage     70748\n",
      "2 spaces            28061\n",
      "1 space             14252\n",
      "no data             13332\n",
      "detached garage     13200\n",
      "carport              7743\n",
      "none                 5901\n",
      "off street           5279\n",
      "3 spaces             4724\n",
      "Name: count, dtype: int64\n",
      "\n",
      "Распределение значений 'Parking_encoded':\n",
      "Parking_encoded\n",
      "False    192102\n",
      "True     184940\n",
      "Name: count, dtype: int64\n",
      "\n",
      "Столбец 'Parking' удалён.\n"
     ]
    }
   ],
   "source": [
    "# Приводим значения столбца 'Parking' к нижнему регистру и удаляем лишние кавычки\n",
    "data['Parking'] = data['Parking'].str.replace(\"'\", \"\", regex=True).str.lower()\n",
    "# Выводим распределение значений (топ-10)\n",
    "print(\"Распределение значений 'Parking' до кодирования:\")\n",
    "print(data['Parking'].value_counts().head(10))\n",
    "# Кодируем признак: считаем, что наличие парковки (True), если значение не равно пустой строке,\n",
    "# не 'no data', не 'none' и не '0'. В противном случае считаем как отсутствие парковки (False)\n",
    "data['Parking_encoded'] = data['Parking'].apply(lambda x: True if x not in ['', 'no data', 'none', '0'] else False)\n",
    "# Выводим распределение нового признака\n",
    "print(\"\\nРаспределение значений 'Parking_encoded':\")\n",
    "print(data['Parking_encoded'].value_counts())\n",
    "# Удаляем исходный столбец 'Parking'\n",
    "data = data.drop('Parking', axis=1)\n",
    "print(\"\\nСтолбец 'Parking' удалён.\")"
   ]
  },
  {
   "cell_type": "markdown",
   "id": "93ea266c",
   "metadata": {},
   "source": [
    "В результате обработки признак Parking был очищен от лишних кавычек и приведен к нижнему регистру. Создан новый бинaрный признак Parking_encoded, где значения True означают наличие парковки, а False – отсутствие информации о парковке (предполагается, что пропуски означают отсутствие). Исходный столбец удален."
   ]
  },
  {
   "cell_type": "markdown",
   "id": "5699b03b",
   "metadata": {},
   "source": [
    "## Обработаем признак lotsize"
   ]
  },
  {
   "cell_type": "code",
   "execution_count": 46,
   "id": "83f8c8bd",
   "metadata": {},
   "outputs": [
    {
     "name": "stdout",
     "output_type": "stream",
     "text": [
      "Распределение значений 'lotsize':\n",
      "lotsize\n",
      "''               33055\n",
      "none             28346\n",
      "'—'              25247\n",
      "'no data'         5329\n",
      "'-- sqft lot'     3819\n",
      "'0.26 acres'      3140\n",
      "'0.25 acres'      2722\n",
      "'0.28 acres'      2614\n",
      "'0.27 acres'      2473\n",
      "'0.29 acres'      2351\n",
      "Name: count, dtype: int64\n",
      "\n",
      "Столбец 'lotsize' удалён.\n"
     ]
    }
   ],
   "source": [
    "# Выводим распределение значений столбца 'lotsize' (топ-10)\n",
    "print(\"Распределение значений 'lotsize':\")\n",
    "print(data['lotsize'].str.lower().value_counts().head(10))\n",
    "# Признак 'lotsize' имеет более 48% пропусков и является числовым. Его использование может ухудшить модель.\n",
    "# Поэтому удаляем данный признак\n",
    "data = data.drop('lotsize', axis=1)\n",
    "print(\"\\nСтолбец 'lotsize' удалён.\")"
   ]
  },
  {
   "cell_type": "markdown",
   "id": "3adc4fee",
   "metadata": {},
   "source": [
    "Признак lotsize содержит большое количество пропусков (пустые строки, 'none', '—', 'no data' и т.д.). Его удаление обосновано низкой информативностью и потенциальными ошибками при заполнении."
   ]
  },
  {
   "cell_type": "markdown",
   "id": "6db39207",
   "metadata": {},
   "source": [
    "## Признак Price/sqft"
   ]
  },
  {
   "cell_type": "code",
   "execution_count": 47,
   "id": "c8d79414",
   "metadata": {},
   "outputs": [
    {
     "name": "stdout",
     "output_type": "stream",
     "text": [
      "Столбец 'Price/sqft' удалён.\n"
     ]
    }
   ],
   "source": [
    "# Удаляем его для предотвращения утечки.\n",
    "data = data.drop('Price/sqft', axis=1)\n",
    "print(\"Столбец 'Price/sqft' удалён.\")"
   ]
  },
  {
   "cell_type": "markdown",
   "id": "0032b4c3",
   "metadata": {},
   "source": [
    "Признак Price/sqft был удалён, поскольку он напрямую коррелирует с целевой переменной, что может привести к утечке данных при обучении модели."
   ]
  },
  {
   "cell_type": "markdown",
   "id": "a8b98ef2",
   "metadata": {},
   "source": [
    "## Обработка признака fireplace"
   ]
  },
  {
   "cell_type": "code",
   "execution_count": 48,
   "id": "241c79ce",
   "metadata": {},
   "outputs": [
    {
     "name": "stdout",
     "output_type": "stream",
     "text": [
      "Распределение значений 'fireplace' до кодирования:\n",
      "fireplace\n",
      "yes               71209\n",
      "1                 14543\n",
      "2                  2432\n",
      "not applicable     1993\n",
      "fireplace           847\n",
      "3                   564\n",
      "living room         433\n",
      "location            399\n",
      "wood burning        311\n",
      "gas/gas logs        300\n",
      "Name: count, dtype: int64\n"
     ]
    }
   ],
   "source": [
    "# Приведём значения столбца к нижнему регистру для корректного анализа\n",
    "data['fireplace'] = data['fireplace'].str.lower()\n",
    "# Выведем распределение значений (топ-10)\n",
    "print(\"Распределение значений 'fireplace' до кодирования:\")\n",
    "print(data['fireplace'].value_counts().head(10))"
   ]
  },
  {
   "cell_type": "markdown",
   "id": "25fdf716",
   "metadata": {},
   "source": [
    "По результатам видно, что значение \"yes\" встречается 71209 раз, затем идут числовые значения, а также такие записи как \"not applicable\". Это позволяет понять, что пропуски и некорректные значения могут означать отсутствие камина."
   ]
  },
  {
   "cell_type": "code",
   "execution_count": 49,
   "id": "d5dfdc36",
   "metadata": {},
   "outputs": [
    {
     "name": "stdout",
     "output_type": "stream",
     "text": [
      "\n",
      "Распределение значений 'fireplace_encoded':\n",
      "fireplace_encoded\n",
      "False    276485\n",
      "True     100557\n",
      "Name: count, dtype: int64\n"
     ]
    }
   ],
   "source": [
    "# Определяем набор значений, которые считаются некорректными или обозначают отсутствие камина\n",
    "false_values = {'', 'no data', 'none', '0', 'not applicable', 'no'}\n",
    "# Создадим новый столбец 'fireplace_encoded':\n",
    "# Если значение не является пропуском и не входит в false_values, то считаем, что камин есть (True), иначе – False.\n",
    "data['fireplace_encoded'] = data['fireplace'].apply(\n",
    "    lambda x: False if pd.isna(x) or x.strip() in false_values else True\n",
    ")\n",
    "# Выведем распределение нового признака\n",
    "print(\"\\nРаспределение значений 'fireplace_encoded':\")\n",
    "print(data['fireplace_encoded'].value_counts())"
   ]
  },
  {
   "cell_type": "markdown",
   "id": "7424cbf0",
   "metadata": {},
   "source": [
    "После кодирования булевым значением записи, в которых указана реальная информация о наличии камина, получили значение True, а все пропуски и некорректные записи – False."
   ]
  },
  {
   "cell_type": "code",
   "execution_count": 50,
   "id": "6fbd0c34",
   "metadata": {},
   "outputs": [
    {
     "name": "stdout",
     "output_type": "stream",
     "text": [
      "\n",
      "Столбец 'fireplace' удалён. Текущие столбцы:\n",
      "Index(['status', 'baths', 'city', 'schools', 'sqft', 'zipcode', 'beds',\n",
      "       'state', 'stories', 'target', 'pool_encoded', 'Type', 'Year built',\n",
      "       'Heating_encoded', 'Cooling_encoded', 'Parking_encoded',\n",
      "       'fireplace_encoded'],\n",
      "      dtype='object')\n"
     ]
    }
   ],
   "source": [
    "# Удаляем исходный столбец 'fireplace' после создания закодированного признака\n",
    "data.drop('fireplace', axis=1, inplace=True)\n",
    "print(\"\\nСтолбец 'fireplace' удалён. Текущие столбцы:\")\n",
    "print(data.columns)"
   ]
  },
  {
   "cell_type": "markdown",
   "id": "48d11a86",
   "metadata": {},
   "source": [
    "Исходный столбец \"fireplace\" был удалён, поскольку информация теперь представлена в бинарном виде в столбце \"fireplace_encoded\". Это упрощает дальнейший анализ и предотвращает утечку данных."
   ]
  },
  {
   "cell_type": "markdown",
   "id": "54102dad",
   "metadata": {},
   "source": [
    "## Обработка признака city"
   ]
  },
  {
   "cell_type": "code",
   "execution_count": 51,
   "id": "15342816",
   "metadata": {},
   "outputs": [
    {
     "name": "stdout",
     "output_type": "stream",
     "text": [
      "Статистика по столбцу 'city' до очистки:\n",
      "Количество пропущенных значений: 32\n",
      "Процент пропущенных значений: 0.01%\n",
      "Количество уникальных значений: 1909\n",
      "Примеры уникальных значений: [' ', '--', 'Abilene', 'Abingdon', 'Accokeek', 'Adams', 'Addison', 'Adel', 'Adelphi', 'Advance']\n"
     ]
    }
   ],
   "source": [
    "# Приводим названия городов к единому виду – каждый город с заглавной буквы\n",
    "data['city'] = data['city'].str.title()\n",
    "# Выведем статистику по пропускам и уникальным значениям\n",
    "missing_values_count = data['city'].isna().sum()\n",
    "total_count = len(data)\n",
    "missing_values_percentage = (missing_values_count / total_count) * 100\n",
    "print(\"Статистика по столбцу 'city' до очистки:\")\n",
    "print(f\"Количество пропущенных значений: {missing_values_count}\")\n",
    "print(f\"Процент пропущенных значений: {missing_values_percentage:.2f}%\")\n",
    "print(f\"Количество уникальных значений: {data['city'].nunique()}\")\n",
    "print(f\"Примеры уникальных значений: {list(data['city'].sort_values().unique()[:10])}\")"
   ]
  },
  {
   "cell_type": "markdown",
   "id": "bdf02582",
   "metadata": {},
   "source": [
    "Мы стандартизировали строковые значения по городам, приведя их к формату Title Case. На данном этапе имеются незначительные пропуски (NaN) и несколько некорректных значений, таких как пустая строка (' ') и '--'."
   ]
  },
  {
   "cell_type": "code",
   "execution_count": 52,
   "id": "f7504b5a",
   "metadata": {},
   "outputs": [
    {
     "name": "stdout",
     "output_type": "stream",
     "text": [
      "Количество удалённых строк: 66\n"
     ]
    }
   ],
   "source": [
    "# Создадим копию DataFrame для работы\n",
    "data_clean = data.copy()\n",
    "# Удаляем приставку \" City\" в названиях городов, если она присутствует\n",
    "data_clean['city'] = data_clean['city'].str.replace(' City', '', regex=False)\n",
    "# Сохраняем исходное количество строк\n",
    "initial_row_count = data_clean.shape[0]\n",
    "# Удаляем строки, где в столбце 'city' находятся пустые строки, '--' или NaN\n",
    "filter_mask = ~data_clean['city'].isin([' ', '--']) & data_clean['city'].notna()\n",
    "data_clean = data_clean[filter_mask]\n",
    "# Подсчитываем количество удалённых строк\n",
    "removed_row_count = initial_row_count - data_clean.shape[0]\n",
    "print(f\"Количество удалённых строк: {removed_row_count}\")"
   ]
  },
  {
   "cell_type": "markdown",
   "id": "c892b7b4",
   "metadata": {},
   "source": [
    "После удаления лишней приставки \" City\" и фильтрации строк с некорректными значениями, удалено 66 строк. Таким образом, остаётся корректное множество городов."
   ]
  },
  {
   "cell_type": "code",
   "execution_count": 53,
   "id": "16501bbf",
   "metadata": {},
   "outputs": [
    {
     "name": "stdout",
     "output_type": "stream",
     "text": [
      "Итоговая статистика по столбцу 'city':\n",
      "Количество пропущенных значений: 0\n",
      "Процент пропущенных значений: 0.00%\n",
      "Количество уникальных значений: 1897\n",
      "Примеры уникальных значений: ['Abilene', 'Abingdon', 'Accokeek', 'Adams', 'Addison', 'Adel', 'Adelphi', 'Advance', 'Akron', 'Alamo Heights']\n"
     ]
    }
   ],
   "source": [
    "# Выполним финальную проверку пропусков и уникальных значений\n",
    "missing_values_count = data_clean['city'].isna().sum()\n",
    "total_count_clean = len(data_clean)\n",
    "missing_values_percentage = (missing_values_count / total_count_clean) * 100\n",
    "print(\"Итоговая статистика по столбцу 'city':\")\n",
    "print(f\"Количество пропущенных значений: {missing_values_count}\")\n",
    "print(f\"Процент пропущенных значений: {missing_values_percentage:.2f}%\")\n",
    "print(f\"Количество уникальных значений: {data_clean['city'].nunique()}\")\n",
    "print(f\"Примеры уникальных значений: {list(data_clean['city'].sort_values().unique()[:10])}\")"
   ]
  },
  {
   "cell_type": "markdown",
   "id": "bed56d30",
   "metadata": {},
   "source": [
    "После очистки в столбце \"city\" отсутствуют пропуски, количество уникальных значений уменьшилось до 1897, а первые 10 уникальных значений выглядят корректно. Теперь данные готовы для дальнейшего анализа."
   ]
  },
  {
   "cell_type": "markdown",
   "id": "d4eb6026",
   "metadata": {},
   "source": [
    "## Обработаем признак schools"
   ]
  },
  {
   "cell_type": "code",
   "execution_count": 54,
   "id": "452ac5bf",
   "metadata": {},
   "outputs": [
    {
     "name": "stdout",
     "output_type": "stream",
     "text": [
      "Пример строки в 'schools':\n",
      "[{'rating': [], 'data': {'Distance': [], 'Grades': []}, 'name': []}]\n"
     ]
    }
   ],
   "source": [
    "# Просмотр примера строки в столбце 'schools'\n",
    "print(\"Пример строки в 'schools':\")\n",
    "print(data['schools'].iloc[5])"
   ]
  },
  {
   "cell_type": "markdown",
   "id": "2e76e655",
   "metadata": {},
   "source": [
    "Например, одна из строк выглядит так:\n",
    "```python \n",
    "\"[{'rating': [], 'data': {'Distance': [], 'Grades': []}, 'name': []}]\"\n",
    "```\n",
    "Это позволяет понять, что внутри содержатся сведения о рейтинге и расстоянии, а неструктурированное представление затрудняет дальнейшую обработку."
   ]
  },
  {
   "cell_type": "code",
   "execution_count": 55,
   "id": "f19927c2",
   "metadata": {},
   "outputs": [],
   "source": [
    "# Рассчитаем средний рейтинг\n",
    "def process_rating(rating):\n",
    "    rating = rating[0].replace('/10', '')\n",
    "    extracted_numbers = [float(num) for num in rating if num.isdigit()]\n",
    "    average_rating = np.average(extracted_numbers) if extracted_numbers else -1\n",
    "    return round(average_rating, 1)\n",
    "\n",
    "s_rating = (\n",
    "    data.schools.str.findall(r\"\\brating': ([\\s\\S]+?), 'data\\b\")\n",
    "    .apply(lambda x: process_rating(x))\n",
    ")\n",
    "\n",
    "# Создадим признак school_rating _mean в нашем наборе данных. Пропуски заполним -1 \n",
    "data['school_rating_mean'] = s_rating"
   ]
  },
  {
   "cell_type": "code",
   "execution_count": 56,
   "id": "bdae5a7f",
   "metadata": {},
   "outputs": [],
   "source": [
    "#Расчитаем минимальную дистанцию\n",
    "s_distance = data.schools.str.findall(r\"\\bDistance': ([\\s\\S]+?), 'Grades\\b\") \n",
    "# Извлечение расстояний до школ из каждой строки\n",
    "s_distance = s_distance.apply(lambda x: x[0]) \n",
    "# Получение первого найденного значения списков, полученных в результате предыдущего шага\n",
    "s_distance = s_distance.str.replace('[a-zA-Z]','', regex=True) \n",
    "# Удаление всех символов алфавита из расстояний\n",
    "s_distance = s_distance.str.findall(r'\\b([0-9]+.[0-9]+)') \n",
    "# Извлечение чисел виде Точноечисло, включая десятичные значения\n",
    "s_distance = s_distance.apply(lambda x: [float(i) for i in x]) \n",
    "# Конвертирование каждого числового значения списка в тип float\n",
    "school_dist_min = s_distance.apply(lambda x: -1 if len(x)==0 else min(x)) \n",
    "# Нахождение минимального значения в каждом списке s_distance, и возвращение -1, если длина списка равна 0\n",
    "\n",
    "#Создадим признак school_dist_min в нашем наборе данных. Пропуски заполним -1\n",
    "data['school_dist_min'] = school_dist_min"
   ]
  },
  {
   "cell_type": "code",
   "execution_count": 57,
   "id": "ca1733f9",
   "metadata": {},
   "outputs": [],
   "source": [
    "# теперь признак schools можно удалить\n",
    "data.drop('schools', axis=1, inplace=True)"
   ]
  },
  {
   "cell_type": "markdown",
   "id": "3884620e",
   "metadata": {},
   "source": [
    "Исходный столбец «schools» был удалён, поскольку необходимая информация теперь представлена в признаках school_rating_mean и school_dist_min"
   ]
  },
  {
   "cell_type": "markdown",
   "id": "10734de8",
   "metadata": {},
   "source": [
    "## Обработаем признак sqft (площадь)"
   ]
  },
  {
   "cell_type": "code",
   "execution_count": 58,
   "id": "cbc87767",
   "metadata": {},
   "outputs": [
    {
     "name": "stdout",
     "output_type": "stream",
     "text": [
      "Количество пропущенных значений: 40535\n",
      "Процент пропущенных значений: 10.75%\n",
      "Количество уникальных значений: 25405\n",
      "Уникальные значения: ['--', '-- sqft', '0', '1', '1 sqft', '1,000', '1,000 sqft', '1,001', '1,001 sqft', '1,002']\n"
     ]
    }
   ],
   "source": [
    "# выполним проверку\n",
    "missing_values_count = data['sqft'].isna().sum()\n",
    "total_count = len(data)\n",
    "missing_values_percentage = (missing_values_count / total_count) * 100\n",
    "\n",
    "print(f\"Количество пропущенных значений: {missing_values_count}\\n\"\n",
    "f\"Процент пропущенных значений: {missing_values_percentage:.2f}%\\n\"\n",
    "f\"Количество уникальных значений: {data['sqft'].nunique()}\\n\"\n",
    "f\"Уникальные значения: {list(data['sqft'].sort_values().unique()[:10])}\")"
   ]
  },
  {
   "cell_type": "code",
   "execution_count": 59,
   "id": "03fe6e3a",
   "metadata": {},
   "outputs": [],
   "source": [
    "# Обрабатываем непустые значения столбца sqft: выделяем все цифровые последовательности\n",
    "sqft_non_missing = data.loc[data['sqft'].notna(), 'sqft']\n",
    "sqft_clean = sqft_non_missing.str.findall(r'\\d+').apply(lambda x: ''.join(x))\n",
    "# Обновляем значения sqft для тех строк, где значение не пропущено\n",
    "data.loc[data['sqft'].notna(), 'sqft'] = sqft_clean\n",
    "# Заменяем оставшиеся пропуски значений на \"0\"\n",
    "data['sqft'] = data['sqft'].fillna(0)\n",
    "# Если встречаются пустые строки, заменяем их тоже на 0\n",
    "data.loc[data['sqft'] == '', 'sqft'] = 0\n",
    "# Приводим столбец к целочисленному типу\n",
    "data['sqft'] = data['sqft'].astype(int)"
   ]
  },
  {
   "cell_type": "code",
   "execution_count": 60,
   "id": "7b0e9e07",
   "metadata": {},
   "outputs": [
    {
     "data": {
      "text/html": [
       "<div>\n",
       "<style scoped>\n",
       "    .dataframe tbody tr th:only-of-type {\n",
       "        vertical-align: middle;\n",
       "    }\n",
       "\n",
       "    .dataframe tbody tr th {\n",
       "        vertical-align: top;\n",
       "    }\n",
       "\n",
       "    .dataframe thead th {\n",
       "        text-align: right;\n",
       "    }\n",
       "</style>\n",
       "<table border=\"1\" class=\"dataframe\">\n",
       "  <thead>\n",
       "    <tr style=\"text-align: right;\">\n",
       "      <th></th>\n",
       "      <th>status</th>\n",
       "      <th>baths</th>\n",
       "      <th>city</th>\n",
       "      <th>sqft</th>\n",
       "      <th>zipcode</th>\n",
       "      <th>beds</th>\n",
       "      <th>state</th>\n",
       "      <th>stories</th>\n",
       "      <th>target</th>\n",
       "      <th>pool_encoded</th>\n",
       "      <th>Type</th>\n",
       "      <th>Year built</th>\n",
       "      <th>Heating_encoded</th>\n",
       "      <th>Cooling_encoded</th>\n",
       "      <th>Parking_encoded</th>\n",
       "      <th>fireplace_encoded</th>\n",
       "      <th>school_rating_mean</th>\n",
       "      <th>school_dist_min</th>\n",
       "    </tr>\n",
       "  </thead>\n",
       "  <tbody>\n",
       "    <tr>\n",
       "      <th>4</th>\n",
       "      <td>For Sale</td>\n",
       "      <td>0.0</td>\n",
       "      <td>Palm Bay</td>\n",
       "      <td>0</td>\n",
       "      <td>32908</td>\n",
       "      <td>NaN</td>\n",
       "      <td>FL</td>\n",
       "      <td>NaN</td>\n",
       "      <td>$5,000</td>\n",
       "      <td>False</td>\n",
       "      <td>land</td>\n",
       "      <td>no date</td>\n",
       "      <td>False</td>\n",
       "      <td>False</td>\n",
       "      <td>False</td>\n",
       "      <td>False</td>\n",
       "      <td>4.7</td>\n",
       "      <td>3.03</td>\n",
       "    </tr>\n",
       "    <tr>\n",
       "      <th>7</th>\n",
       "      <td>Active</td>\n",
       "      <td>0.0</td>\n",
       "      <td>Memphis</td>\n",
       "      <td>0</td>\n",
       "      <td>38115</td>\n",
       "      <td>NaN</td>\n",
       "      <td>TN</td>\n",
       "      <td>NaN</td>\n",
       "      <td>68,000</td>\n",
       "      <td>False</td>\n",
       "      <td>other</td>\n",
       "      <td>1976</td>\n",
       "      <td>False</td>\n",
       "      <td>False</td>\n",
       "      <td>False</td>\n",
       "      <td>False</td>\n",
       "      <td>2.7</td>\n",
       "      <td>0.40</td>\n",
       "    </tr>\n",
       "    <tr>\n",
       "      <th>26</th>\n",
       "      <td>Active</td>\n",
       "      <td>1.0</td>\n",
       "      <td>Miami</td>\n",
       "      <td>0</td>\n",
       "      <td>33183</td>\n",
       "      <td>Baths</td>\n",
       "      <td>FL</td>\n",
       "      <td>NaN</td>\n",
       "      <td>799,000</td>\n",
       "      <td>False</td>\n",
       "      <td>other</td>\n",
       "      <td>no date</td>\n",
       "      <td>False</td>\n",
       "      <td>False</td>\n",
       "      <td>False</td>\n",
       "      <td>False</td>\n",
       "      <td>3.8</td>\n",
       "      <td>0.90</td>\n",
       "    </tr>\n",
       "    <tr>\n",
       "      <th>40</th>\n",
       "      <td>Active</td>\n",
       "      <td>0.0</td>\n",
       "      <td>Rotonda West</td>\n",
       "      <td>0</td>\n",
       "      <td>33947</td>\n",
       "      <td>NaN</td>\n",
       "      <td>FL</td>\n",
       "      <td>NaN</td>\n",
       "      <td>54,000</td>\n",
       "      <td>False</td>\n",
       "      <td>other</td>\n",
       "      <td>no date</td>\n",
       "      <td>False</td>\n",
       "      <td>False</td>\n",
       "      <td>False</td>\n",
       "      <td>False</td>\n",
       "      <td>6.3</td>\n",
       "      <td>3.10</td>\n",
       "    </tr>\n",
       "    <tr>\n",
       "      <th>41</th>\n",
       "      <td>For Sale</td>\n",
       "      <td>0.0</td>\n",
       "      <td>San Diego</td>\n",
       "      <td>0</td>\n",
       "      <td>92127</td>\n",
       "      <td>NaN</td>\n",
       "      <td>CA</td>\n",
       "      <td>NaN</td>\n",
       "      <td>$1,100,000</td>\n",
       "      <td>False</td>\n",
       "      <td>land</td>\n",
       "      <td>no date</td>\n",
       "      <td>False</td>\n",
       "      <td>False</td>\n",
       "      <td>False</td>\n",
       "      <td>False</td>\n",
       "      <td>9.0</td>\n",
       "      <td>0.97</td>\n",
       "    </tr>\n",
       "  </tbody>\n",
       "</table>\n",
       "</div>"
      ],
      "text/plain": [
       "      status  baths          city  sqft zipcode   beds state stories  \\\n",
       "4   For Sale    0.0      Palm Bay     0   32908    NaN    FL     NaN   \n",
       "7     Active    0.0       Memphis     0   38115    NaN    TN     NaN   \n",
       "26    Active    1.0         Miami     0   33183  Baths    FL     NaN   \n",
       "40    Active    0.0  Rotonda West     0   33947    NaN    FL     NaN   \n",
       "41  For Sale    0.0     San Diego     0   92127    NaN    CA     NaN   \n",
       "\n",
       "        target  pool_encoded   Type Year built  Heating_encoded  \\\n",
       "4       $5,000         False   land    no date            False   \n",
       "7       68,000         False  other       1976            False   \n",
       "26     799,000         False  other    no date            False   \n",
       "40      54,000         False  other    no date            False   \n",
       "41  $1,100,000         False   land    no date            False   \n",
       "\n",
       "    Cooling_encoded  Parking_encoded  fireplace_encoded  school_rating_mean  \\\n",
       "4             False            False              False                 4.7   \n",
       "7             False            False              False                 2.7   \n",
       "26            False            False              False                 3.8   \n",
       "40            False            False              False                 6.3   \n",
       "41            False            False              False                 9.0   \n",
       "\n",
       "    school_dist_min  \n",
       "4              3.03  \n",
       "7              0.40  \n",
       "26             0.90  \n",
       "40             3.10  \n",
       "41             0.97  "
      ]
     },
     "metadata": {},
     "output_type": "display_data"
    },
    {
     "name": "stdout",
     "output_type": "stream",
     "text": [
      "Выбранных строк: 46186\n",
      "Процент выбранных строк от общего числа строк: 12.25%\n"
     ]
    }
   ],
   "source": [
    "# Строки, где sqft равен 0 и тип недвижимости входит в список ['other', 'land', 'ranch']\n",
    "selected_rows = data[(data['sqft'] == 0) & (data['Type'].isin(['other', 'land', 'ranch']))]\n",
    "# Просмотр первых нескольких строк\n",
    "display(selected_rows.head())\n",
    "# Вычисление процента от общего числа строк\n",
    "percent_selected = len(selected_rows) / total_count * 100\n",
    "print(f\"Выбранных строк: {len(selected_rows)}\")\n",
    "print(f\"Процент выбранных строк от общего числа строк: {percent_selected:.2f}%\")"
   ]
  },
  {
   "cell_type": "code",
   "execution_count": 61,
   "id": "40eedfc9",
   "metadata": {},
   "outputs": [
    {
     "data": {
      "text/html": [
       "<div>\n",
       "<style scoped>\n",
       "    .dataframe tbody tr th:only-of-type {\n",
       "        vertical-align: middle;\n",
       "    }\n",
       "\n",
       "    .dataframe tbody tr th {\n",
       "        vertical-align: top;\n",
       "    }\n",
       "\n",
       "    .dataframe thead th {\n",
       "        text-align: right;\n",
       "    }\n",
       "</style>\n",
       "<table border=\"1\" class=\"dataframe\">\n",
       "  <thead>\n",
       "    <tr style=\"text-align: right;\">\n",
       "      <th></th>\n",
       "      <th>status</th>\n",
       "      <th>baths</th>\n",
       "      <th>city</th>\n",
       "      <th>sqft</th>\n",
       "      <th>zipcode</th>\n",
       "      <th>beds</th>\n",
       "      <th>state</th>\n",
       "      <th>stories</th>\n",
       "      <th>target</th>\n",
       "      <th>pool_encoded</th>\n",
       "      <th>Type</th>\n",
       "      <th>Year built</th>\n",
       "      <th>Heating_encoded</th>\n",
       "      <th>Cooling_encoded</th>\n",
       "      <th>Parking_encoded</th>\n",
       "      <th>fireplace_encoded</th>\n",
       "      <th>school_rating_mean</th>\n",
       "      <th>school_dist_min</th>\n",
       "    </tr>\n",
       "  </thead>\n",
       "  <tbody>\n",
       "    <tr>\n",
       "      <th>15</th>\n",
       "      <td>For Sale</td>\n",
       "      <td>0.0</td>\n",
       "      <td>Brooklyn</td>\n",
       "      <td>0</td>\n",
       "      <td>11219</td>\n",
       "      <td>NaN</td>\n",
       "      <td>NY</td>\n",
       "      <td>NaN</td>\n",
       "      <td>1,650,000</td>\n",
       "      <td>False</td>\n",
       "      <td>single_family_home</td>\n",
       "      <td>1905</td>\n",
       "      <td>False</td>\n",
       "      <td>True</td>\n",
       "      <td>False</td>\n",
       "      <td>False</td>\n",
       "      <td>6.3</td>\n",
       "      <td>0.20</td>\n",
       "    </tr>\n",
       "    <tr>\n",
       "      <th>56</th>\n",
       "      <td>Active</td>\n",
       "      <td>2.0</td>\n",
       "      <td>Southern Pines</td>\n",
       "      <td>0</td>\n",
       "      <td>28387</td>\n",
       "      <td>2</td>\n",
       "      <td>NC</td>\n",
       "      <td>1</td>\n",
       "      <td>$166,500</td>\n",
       "      <td>False</td>\n",
       "      <td>condo</td>\n",
       "      <td>1998</td>\n",
       "      <td>False</td>\n",
       "      <td>False</td>\n",
       "      <td>False</td>\n",
       "      <td>False</td>\n",
       "      <td>5.6</td>\n",
       "      <td>0.90</td>\n",
       "    </tr>\n",
       "    <tr>\n",
       "      <th>193</th>\n",
       "      <td>Foreclosure</td>\n",
       "      <td>0.0</td>\n",
       "      <td>Pottstown</td>\n",
       "      <td>0</td>\n",
       "      <td>19464</td>\n",
       "      <td>4 bd</td>\n",
       "      <td>PA</td>\n",
       "      <td>NaN</td>\n",
       "      <td>$170,933</td>\n",
       "      <td>False</td>\n",
       "      <td>single_family_home</td>\n",
       "      <td>1974</td>\n",
       "      <td>True</td>\n",
       "      <td>False</td>\n",
       "      <td>False</td>\n",
       "      <td>False</td>\n",
       "      <td>4.7</td>\n",
       "      <td>2.20</td>\n",
       "    </tr>\n",
       "    <tr>\n",
       "      <th>221</th>\n",
       "      <td>For Sale</td>\n",
       "      <td>8.0</td>\n",
       "      <td>New York</td>\n",
       "      <td>0</td>\n",
       "      <td>10075</td>\n",
       "      <td>6 Beds</td>\n",
       "      <td>NY</td>\n",
       "      <td>NaN</td>\n",
       "      <td>$15,000,000</td>\n",
       "      <td>False</td>\n",
       "      <td>condo</td>\n",
       "      <td>1930</td>\n",
       "      <td>False</td>\n",
       "      <td>False</td>\n",
       "      <td>False</td>\n",
       "      <td>False</td>\n",
       "      <td>4.3</td>\n",
       "      <td>0.19</td>\n",
       "    </tr>\n",
       "    <tr>\n",
       "      <th>232</th>\n",
       "      <td>For Sale</td>\n",
       "      <td>2.0</td>\n",
       "      <td>Chicago</td>\n",
       "      <td>0</td>\n",
       "      <td>60654</td>\n",
       "      <td>2 Beds</td>\n",
       "      <td>IL</td>\n",
       "      <td>2.0</td>\n",
       "      <td>$525,000</td>\n",
       "      <td>False</td>\n",
       "      <td>condo</td>\n",
       "      <td>2003</td>\n",
       "      <td>True</td>\n",
       "      <td>True</td>\n",
       "      <td>True</td>\n",
       "      <td>False</td>\n",
       "      <td>4.0</td>\n",
       "      <td>0.57</td>\n",
       "    </tr>\n",
       "  </tbody>\n",
       "</table>\n",
       "</div>"
      ],
      "text/plain": [
       "          status  baths            city  sqft zipcode    beds state stories  \\\n",
       "15      For Sale    0.0        Brooklyn     0   11219     NaN    NY     NaN   \n",
       "56        Active    2.0  Southern Pines     0   28387       2    NC       1   \n",
       "193  Foreclosure    0.0       Pottstown     0   19464    4 bd    PA     NaN   \n",
       "221     For Sale    8.0        New York     0   10075  6 Beds    NY     NaN   \n",
       "232     For Sale    2.0         Chicago     0   60654  2 Beds    IL     2.0   \n",
       "\n",
       "          target  pool_encoded                Type Year built  \\\n",
       "15     1,650,000         False  single_family_home       1905   \n",
       "56      $166,500         False               condo       1998   \n",
       "193     $170,933         False  single_family_home       1974   \n",
       "221  $15,000,000         False               condo       1930   \n",
       "232     $525,000         False               condo       2003   \n",
       "\n",
       "     Heating_encoded  Cooling_encoded  Parking_encoded  fireplace_encoded  \\\n",
       "15             False             True            False              False   \n",
       "56             False            False            False              False   \n",
       "193             True            False            False              False   \n",
       "221            False            False            False              False   \n",
       "232             True             True             True              False   \n",
       "\n",
       "     school_rating_mean  school_dist_min  \n",
       "15                  6.3             0.20  \n",
       "56                  5.6             0.90  \n",
       "193                 4.7             2.20  \n",
       "221                 4.3             0.19  \n",
       "232                 4.0             0.57  "
      ]
     },
     "metadata": {},
     "output_type": "display_data"
    },
    {
     "name": "stdout",
     "output_type": "stream",
     "text": [
      "Уникальные значения признака Type в выбранных строках: ['single_family_home' 'condo' 'miscellaneous' 'multi_family_home'\n",
      " 'townhouse' 'mobile_home' 'modern' 'apartment']\n",
      "Выбранных строк: 6987\n",
      "Процент выбранных строк от общего числа строк: 1.85%\n"
     ]
    }
   ],
   "source": [
    "# Ячейка 5: Строки, где sqft равен 0, но тип недвижимости не входит в список ['other', 'land', 'ranch']\n",
    "selected_rows_diff = data[(data['sqft'] == 0) & ~(data['Type'].isin(['other', 'land', 'ranch']))]\n",
    "# Просмотр первых нескольких строк\n",
    "display(selected_rows_diff.head())\n",
    "# Вычисление уникальных значений признака Type и процента выборки\n",
    "unique_types = selected_rows_diff['Type'].unique()\n",
    "percent_selected_diff = len(selected_rows_diff) / total_count * 100\n",
    "print(f\"Уникальные значения признака Type в выбранных строках: {unique_types}\")\n",
    "print(f\"Выбранных строк: {len(selected_rows_diff)}\")\n",
    "print(f\"Процент выбранных строк от общего числа строк: {percent_selected_diff:.2f}%\")"
   ]
  },
  {
   "cell_type": "code",
   "execution_count": 62,
   "id": "a86a5a9a",
   "metadata": {},
   "outputs": [
    {
     "name": "stdout",
     "output_type": "stream",
     "text": [
      "Большая часть строк с нулевыми значениями в sqft относится к типам 'other', 'land' и 'ranch'.\n",
      "Оставшиеся 1.85% строк с нулевым значением sqft относятся к другим типам недвижимости, что свидетельствует о корректности заполнения данными.\n"
     ]
    }
   ],
   "source": [
    "# Ячейка 6: Вывод заключительного сообщения\n",
    "print(\"Большая часть строк с нулевыми значениями в sqft относится к типам 'other', 'land' и 'ranch'.\")\n",
    "print(\"Оставшиеся 1.85% строк с нулевым значением sqft относятся к другим типам недвижимости, что свидетельствует о корректности заполнения данными.\")"
   ]
  },
  {
   "cell_type": "markdown",
   "id": "112314f5",
   "metadata": {},
   "source": [
    "## Обработаем признак zipcode"
   ]
  },
  {
   "cell_type": "code",
   "execution_count": 63,
   "id": "1beb6134",
   "metadata": {},
   "outputs": [
    {
     "name": "stdout",
     "output_type": "stream",
     "text": [
      "Статистика по признаку 'zipcode' до обработки:\n",
      "Количество пропущенных значений: 0\n",
      "Процент пропущенных значений: 0.00%\n",
      "Количество уникальных значений: 4549\n",
      "Примеры уникальных значений: ['--', '0', '00000', '02108', '02109', '02110', '02111', '02113', '02114', '02115']\n"
     ]
    }
   ],
   "source": [
    "# Первичный анализ столбца 'zipcode'\n",
    "missing_values_count = data['zipcode'].isna().sum()\n",
    "total_count = len(data)\n",
    "missing_values_percentage = (missing_values_count / total_count) * 100\n",
    "print(\"Статистика по признаку 'zipcode' до обработки:\")\n",
    "print(f\"Количество пропущенных значений: {missing_values_count}\")\n",
    "print(f\"Процент пропущенных значений: {missing_values_percentage:.2f}%\")\n",
    "print(f\"Количество уникальных значений: {data['zipcode'].nunique()}\")\n",
    "print(f\"Примеры уникальных значений: {list(data['zipcode'].sort_values().unique()[:10])}\")"
   ]
  },
  {
   "cell_type": "markdown",
   "id": "5db8b170",
   "metadata": {},
   "source": [
    "На данном этапе отсутствуют пропуски, но наблюдается большое количество уникальных значений (4549), среди которых встречаются некорректные значения, такие как '--', '0' и '00000'."
   ]
  },
  {
   "cell_type": "code",
   "execution_count": 64,
   "id": "a425395f",
   "metadata": {},
   "outputs": [
    {
     "name": "stdout",
     "output_type": "stream",
     "text": [
      "Некорректные значения удалены. Примеры zipcode после удаления:\n",
      "['02108', '02109', '02110', '02111', '02113', '02114', '02115', '02116', '02118', '02119']\n"
     ]
    }
   ],
   "source": [
    "# Отфильтровываем строки с некорректными значениями zipcode: '--', '0' и '00000'\n",
    "indexes_to_drop = data[(data['zipcode'] == '--') | \n",
    "                       (data['zipcode'] == '0') | \n",
    "                       (data['zipcode'] == '00000')].index\n",
    "# Удаляем отобранные строки\n",
    "data = data.drop(indexes_to_drop)\n",
    "# Проверка после удаления некорректных строк\n",
    "print(\"Некорректные значения удалены. Примеры zipcode после удаления:\")\n",
    "print(list(data['zipcode'].sort_values().unique()[:10]))"
   ]
  },
  {
   "cell_type": "markdown",
   "id": "68f4da06",
   "metadata": {},
   "source": [
    "После удаления строк с некорректными значениями количество строк уменьшилось, а первые 10 значений zipcode выглядят корректно (например, '02108', '02109', …)."
   ]
  },
  {
   "cell_type": "code",
   "execution_count": 65,
   "id": "cf61fc93",
   "metadata": {},
   "outputs": [
    {
     "name": "stdout",
     "output_type": "stream",
     "text": [
      "Примеры zipcode после корректировки:\n",
      "['02108', '02109', '02110', '02111', '02113', '02114', '02115', '02116', '02118', '02119']\n"
     ]
    }
   ],
   "source": [
    "# Если в zipcode встречается расширенный формат (через дефис), оставляем только первую часть до дефиса.\n",
    "data['zipcode'] = data['zipcode'].str.replace(r\"-.+\", \"\", regex=True)\n",
    "# Проверка преобразованных значений\n",
    "print(\"Примеры zipcode после корректировки:\")\n",
    "print(list(data['zipcode'].sort_values().unique()[:10]))"
   ]
  },
  {
   "cell_type": "markdown",
   "id": "526980b0",
   "metadata": {},
   "source": [
    "После применения регулярного выражения все значения zipcode теперь содержат только первую часть, что соответствует корректному формату почтовых индексов."
   ]
  },
  {
   "cell_type": "markdown",
   "id": "d4472766",
   "metadata": {},
   "source": [
    "## Обработаем признак bads(количество спален)"
   ]
  },
  {
   "cell_type": "code",
   "execution_count": 66,
   "id": "48b73fa0",
   "metadata": {},
   "outputs": [
    {
     "name": "stdout",
     "output_type": "stream",
     "text": [
      "Статистика по признаку 'beds' до удаления:\n",
      "Количество пропущенных значений: 91200\n",
      "Процент пропущенных значений: 24.19%\n",
      "Количество уникальных значений: 1183\n",
      "Уникальные значения: [' ', '# Bedrooms 1st Floor', '-- bd', '-- sqft', '0', '0.0', '0.25 acres', '0.26 acres', '0.27 acres', '0.28 acres']\n",
      "\n",
      "Столбец 'beds' успешно удалён.\n"
     ]
    }
   ],
   "source": [
    "# Анализ признака 'beds'\n",
    "missing_values_count = data['beds'].isna().sum()\n",
    "total_count = len(data)\n",
    "missing_values_percentage = (missing_values_count / total_count) * 100\n",
    "print(\"Статистика по признаку 'beds' до удаления:\")\n",
    "print(f\"Количество пропущенных значений: {missing_values_count}\")\n",
    "print(f\"Процент пропущенных значений: {missing_values_percentage:.2f}%\")\n",
    "print(f\"Количество уникальных значений: {data['beds'].nunique()}\")\n",
    "print(f\"Уникальные значения: {list(data['beds'].sort_values().unique()[:10])}\")\n",
    "# Признак 'beds' содержит неоднозначные данные (часть строк — текст, часть — числовые значения, часть — площади)\n",
    "# Поэтому столбец 'beds' удаляем\n",
    "data = data.drop('beds', axis=1)\n",
    "print(\"\\nСтолбец 'beds' успешно удалён.\")"
   ]
  },
  {
   "cell_type": "markdown",
   "id": "1541527f",
   "metadata": {},
   "source": [
    "Признак beds имеет 24.18% пропусков и большое количество уникальных значений с различными форматами. Такие данные сложно интерпретировать, поэтому столбец удаляется."
   ]
  },
  {
   "cell_type": "markdown",
   "id": "2d98e6a4",
   "metadata": {},
   "source": [
    "## Обработаем признак state"
   ]
  },
  {
   "cell_type": "code",
   "execution_count": 67,
   "id": "e7b8639c",
   "metadata": {},
   "outputs": [
    {
     "name": "stdout",
     "output_type": "stream",
     "text": [
      "Статистика по признаку 'state':\n",
      "Количество пропущенных значений: 0\n",
      "Количество уникальных значений: 38\n",
      "Уникальные значения: ['NC', 'WA', 'CA', 'TX', 'FL', 'PA', 'TN', 'IA', 'NY', 'OR']\n"
     ]
    }
   ],
   "source": [
    "print(\"Статистика по признаку 'state':\")\n",
    "print(f\"Количество пропущенных значений: {data['state'].isna().sum()}\")\n",
    "print(f\"Количество уникальных значений: {data['state'].nunique()}\")\n",
    "print(f\"Уникальные значения: {list(data['state'].unique()[:10])}\")"
   ]
  },
  {
   "cell_type": "markdown",
   "id": "0f962183",
   "metadata": {},
   "source": [
    "Признак state не содержит пропусков, имеет 37 уникальных значений (например, 'NC', 'WA', 'CA', 'TX', 'FL', 'PA', 'TN', 'IA', 'NY', 'OR') и выглядит корректно для дальнейшего анализа."
   ]
  },
  {
   "cell_type": "markdown",
   "id": "858ef772",
   "metadata": {},
   "source": [
    "## обработаем признак stories"
   ]
  },
  {
   "cell_type": "code",
   "execution_count": 68,
   "id": "84655ebb",
   "metadata": {},
   "outputs": [
    {
     "name": "stdout",
     "output_type": "stream",
     "text": [
      "Статистика по признаку 'stories':\n",
      "Количество пропущенных значений: 150576\n",
      "Процент пропущенных значений: 39.94%\n",
      "Количество уникальных значений: 347\n",
      "Примеры уникальных значений: [', 1', ', 2', ', 3', '0', '0.0', '1', '1 1/2 Levels', '1 1/2 Story', '1 Level', '1 Level, 1.5 Level']\n"
     ]
    }
   ],
   "source": [
    "# Проверяем количество пропусков, процент пропусков, количество уникальных значений и примеры уникальных значений\n",
    "missing_values_count = data['stories'].isna().sum()\n",
    "total_count = len(data)\n",
    "missing_values_percentage = (missing_values_count / total_count) * 100\n",
    "print(\"Статистика по признаку 'stories':\")\n",
    "print(f\"Количество пропущенных значений: {missing_values_count}\")\n",
    "print(f\"Процент пропущенных значений: {missing_values_percentage:.2f}%\")\n",
    "print(f\"Количество уникальных значений: {data['stories'].nunique()}\")\n",
    "print(f\"Примеры уникальных значений: {list(data['stories'].sort_values().unique()[:10])}\")"
   ]
  },
  {
   "cell_type": "markdown",
   "id": "b7061f5f",
   "metadata": {},
   "source": [
    "Признак \"stories\" имеет высокую долю пропусков (примерно 39.93%), а количество уникальных значений составляет 346 (например, [', 1', ', 2', ', 3', '0', '0.0', '1', '1 1/2 Levels', '1 1/2 Story', '1 Level', '1 Level, 1.5 Level'])."
   ]
  },
  {
   "cell_type": "code",
   "execution_count": 69,
   "id": "31ff5610",
   "metadata": {},
   "outputs": [
    {
     "name": "stdout",
     "output_type": "stream",
     "text": [
      "Распределение типов объектов среди строк с пропущенным значением 'stories':\n",
      "Type\n",
      "single_family_home    46304\n",
      "other                 37032\n",
      "land                  28838\n",
      "condo                 24356\n",
      "multi_family_home      5212\n",
      "townhouse              3938\n",
      "mobile_home            1499\n",
      "ranch                  1389\n",
      "modern                 1129\n",
      "apartment               824\n",
      "historical               44\n",
      "miscellaneous            11\n",
      "Name: count, dtype: int64\n"
     ]
    }
   ],
   "source": [
    "# Анализируем, в каких типах объектов встречаются пропуски в признаке \"stories\"\n",
    "missing_stories_by_type = data[data['stories'].isna()]['Type'].value_counts()\n",
    "print(\"Распределение типов объектов среди строк с пропущенным значением 'stories':\")\n",
    "print(missing_stories_by_type)"
   ]
  },
  {
   "cell_type": "markdown",
   "id": "df398bd5",
   "metadata": {},
   "source": [
    "В пропусках встречаются как типы \"земля\" (land), так и домов (например, single_family_home, condo и т.д.). Пропуски присутствуют в значительном числе строк, поэтому заполнять их случайными значениями нецелесообразно."
   ]
  },
  {
   "cell_type": "code",
   "execution_count": 70,
   "id": "820adf77",
   "metadata": {},
   "outputs": [
    {
     "name": "stdout",
     "output_type": "stream",
     "text": [
      "Столбец 'stories' успешно удалён. Текущие столбцы:\n",
      "Index(['status', 'baths', 'city', 'sqft', 'zipcode', 'state', 'target',\n",
      "       'pool_encoded', 'Type', 'Year built', 'Heating_encoded',\n",
      "       'Cooling_encoded', 'Parking_encoded', 'fireplace_encoded',\n",
      "       'school_rating_mean', 'school_dist_min'],\n",
      "      dtype='object')\n"
     ]
    }
   ],
   "source": [
    "# Удаляем признак \"stories\", так как он содержит большое количество пропусков в разных типах объектов\n",
    "data = data.drop('stories', axis=1)\n",
    "print(\"Столбец 'stories' успешно удалён. Текущие столбцы:\")\n",
    "print(data.columns)"
   ]
  },
  {
   "cell_type": "markdown",
   "id": "11fa54e1",
   "metadata": {},
   "source": [
    "Признак \"stories\" был удалён, поскольку его заполнение не представляется корректным и информативным из-за большого количества пропусков в различных типах недвижимости."
   ]
  },
  {
   "cell_type": "markdown",
   "id": "c52d8246",
   "metadata": {},
   "source": [
    "## Посмотрим на целевой признак target"
   ]
  },
  {
   "cell_type": "code",
   "execution_count": 71,
   "id": "a8f4eafe",
   "metadata": {},
   "outputs": [
    {
     "name": "stdout",
     "output_type": "stream",
     "text": [
      "Статистика по столбцу 'target' до обработки:\n",
      "Количество пропущенных значений: 2480\n",
      "Процент пропущенных значений: 0.66%\n",
      "Количество уникальных значений: 43938\n",
      "Примеры уникальных значений: ['$1', '$1,000', '$1,000,000', '$1,000,000+', '$1,000,036', '$1,000,050', '$1,000,100', '$1,000,898', '$1,000/mo', '$1,001,713']\n"
     ]
    }
   ],
   "source": [
    "# Первичная проверка столбца 'target'\n",
    "missing_values_count = data['target'].isna().sum()\n",
    "total_count = len(data)\n",
    "missing_values_percentage = (missing_values_count / total_count) * 100\n",
    "print(\"Статистика по столбцу 'target' до обработки:\")\n",
    "print(f\"Количество пропущенных значений: {missing_values_count}\")\n",
    "print(f\"Процент пропущенных значений: {missing_values_percentage:.2f}%\")\n",
    "print(f\"Количество уникальных значений: {data['target'].nunique()}\")\n",
    "print(f\"Примеры уникальных значений: {list(data['target'].sort_values().unique()[:10])}\")"
   ]
  },
  {
   "cell_type": "markdown",
   "id": "2bdf546c",
   "metadata": {},
   "source": [
    "Изначально обнаружено 2475 пропусков (0.66%), 43936 уникальных значений, среди которых встречаются строки с символами '$', запятыми и текстовыми пометками (например, \"$1,000/mo\")."
   ]
  },
  {
   "cell_type": "code",
   "execution_count": 72,
   "id": "b60dd01b",
   "metadata": {},
   "outputs": [
    {
     "name": "stdout",
     "output_type": "stream",
     "text": [
      "Строки с пропущенным значением 'target' удалены.\n"
     ]
    }
   ],
   "source": [
    "# Удаляем строки с пропущенными значениями в столбце 'target'\n",
    "data = data.dropna(subset=['target'])\n",
    "print(\"Строки с пропущенным значением 'target' удалены.\")"
   ]
  },
  {
   "cell_type": "markdown",
   "id": "e0d273e2",
   "metadata": {},
   "source": [
    "Удалены все строки с пропущенными значениями в target, так как их заполнить корректно невозможно."
   ]
  },
  {
   "cell_type": "code",
   "execution_count": 73,
   "id": "3db68794",
   "metadata": {},
   "outputs": [
    {
     "name": "stdout",
     "output_type": "stream",
     "text": [
      "0.11% строк содержат '/mo' в столбце 'target'.\n",
      "Строки с арендными значениями (с '/mo') удалены.\n"
     ]
    }
   ],
   "source": [
    "# Определяем строки, где в target встречается '/mo'\n",
    "rental_rows = data[data['target'].str.contains('/mo', regex=True)]\n",
    "percent_rentals = (len(rental_rows) / len(data)) * 100\n",
    "print(f\"{round(percent_rentals, 2)}% строк содержат '/mo' в столбце 'target'.\")\n",
    "# Удаляем строки с обозначением аренды\n",
    "data = data[~data['target'].str.contains('/mo', regex=True)]\n",
    "print(\"Строки с арендными значениями (с '/mo') удалены.\")"
   ]
  },
  {
   "cell_type": "markdown",
   "id": "e026d00c",
   "metadata": {},
   "source": [
    "Лишь 0.11% значений относятся к аренде. Такие строки удаляются, т.к. задача – прогноз стоимости недвижимости, а не аренды."
   ]
  },
  {
   "cell_type": "code",
   "execution_count": 74,
   "id": "005b5d5c",
   "metadata": {},
   "outputs": [
    {
     "name": "stdout",
     "output_type": "stream",
     "text": [
      "Значения в 'target' преобразованы в числовой формат.\n",
      "Минимальное значение target:\n"
     ]
    },
    {
     "data": {
      "text/html": [
       "<div>\n",
       "<style scoped>\n",
       "    .dataframe tbody tr th:only-of-type {\n",
       "        vertical-align: middle;\n",
       "    }\n",
       "\n",
       "    .dataframe tbody tr th {\n",
       "        vertical-align: top;\n",
       "    }\n",
       "\n",
       "    .dataframe thead th {\n",
       "        text-align: right;\n",
       "    }\n",
       "</style>\n",
       "<table border=\"1\" class=\"dataframe\">\n",
       "  <thead>\n",
       "    <tr style=\"text-align: right;\">\n",
       "      <th></th>\n",
       "      <th>status</th>\n",
       "      <th>baths</th>\n",
       "      <th>city</th>\n",
       "      <th>sqft</th>\n",
       "      <th>zipcode</th>\n",
       "      <th>state</th>\n",
       "      <th>target</th>\n",
       "      <th>pool_encoded</th>\n",
       "      <th>Type</th>\n",
       "      <th>Year built</th>\n",
       "      <th>Heating_encoded</th>\n",
       "      <th>Cooling_encoded</th>\n",
       "      <th>Parking_encoded</th>\n",
       "      <th>fireplace_encoded</th>\n",
       "      <th>school_rating_mean</th>\n",
       "      <th>school_dist_min</th>\n",
       "    </tr>\n",
       "  </thead>\n",
       "  <tbody>\n",
       "    <tr>\n",
       "      <th>15533</th>\n",
       "      <td>Active</td>\n",
       "      <td>2.0</td>\n",
       "      <td>Goodlettsville</td>\n",
       "      <td>1596</td>\n",
       "      <td>37072</td>\n",
       "      <td>TN</td>\n",
       "      <td>1</td>\n",
       "      <td>False</td>\n",
       "      <td>single_family_home</td>\n",
       "      <td>1940</td>\n",
       "      <td>True</td>\n",
       "      <td>False</td>\n",
       "      <td>True</td>\n",
       "      <td>False</td>\n",
       "      <td>2.3</td>\n",
       "      <td>0.2</td>\n",
       "    </tr>\n",
       "    <tr>\n",
       "      <th>25334</th>\n",
       "      <td>Other</td>\n",
       "      <td>1.0</td>\n",
       "      <td>Indianapolis</td>\n",
       "      <td>1586</td>\n",
       "      <td>46224</td>\n",
       "      <td>IN</td>\n",
       "      <td>1</td>\n",
       "      <td>False</td>\n",
       "      <td>single_family_home</td>\n",
       "      <td>1957</td>\n",
       "      <td>True</td>\n",
       "      <td>True</td>\n",
       "      <td>True</td>\n",
       "      <td>True</td>\n",
       "      <td>1.5</td>\n",
       "      <td>0.2</td>\n",
       "    </tr>\n",
       "    <tr>\n",
       "      <th>84943</th>\n",
       "      <td>Foreclosure</td>\n",
       "      <td>0.0</td>\n",
       "      <td>Cincinnati</td>\n",
       "      <td>2536</td>\n",
       "      <td>45231</td>\n",
       "      <td>OH</td>\n",
       "      <td>1</td>\n",
       "      <td>False</td>\n",
       "      <td>land</td>\n",
       "      <td>1865</td>\n",
       "      <td>False</td>\n",
       "      <td>True</td>\n",
       "      <td>True</td>\n",
       "      <td>True</td>\n",
       "      <td>2.0</td>\n",
       "      <td>0.5</td>\n",
       "    </tr>\n",
       "    <tr>\n",
       "      <th>148219</th>\n",
       "      <td>Active</td>\n",
       "      <td>0.0</td>\n",
       "      <td>Huntley</td>\n",
       "      <td>0</td>\n",
       "      <td>60142</td>\n",
       "      <td>IL</td>\n",
       "      <td>1</td>\n",
       "      <td>False</td>\n",
       "      <td>land</td>\n",
       "      <td>no date</td>\n",
       "      <td>False</td>\n",
       "      <td>False</td>\n",
       "      <td>False</td>\n",
       "      <td>False</td>\n",
       "      <td>-1.0</td>\n",
       "      <td>-1.0</td>\n",
       "    </tr>\n",
       "    <tr>\n",
       "      <th>205315</th>\n",
       "      <td>Active</td>\n",
       "      <td>0.0</td>\n",
       "      <td>Huntley</td>\n",
       "      <td>0</td>\n",
       "      <td>60142</td>\n",
       "      <td>IL</td>\n",
       "      <td>1</td>\n",
       "      <td>False</td>\n",
       "      <td>land</td>\n",
       "      <td>no date</td>\n",
       "      <td>False</td>\n",
       "      <td>False</td>\n",
       "      <td>False</td>\n",
       "      <td>False</td>\n",
       "      <td>7.8</td>\n",
       "      <td>0.9</td>\n",
       "    </tr>\n",
       "  </tbody>\n",
       "</table>\n",
       "</div>"
      ],
      "text/plain": [
       "             status  baths            city  sqft zipcode state  target  \\\n",
       "15533        Active    2.0  Goodlettsville  1596   37072    TN       1   \n",
       "25334         Other    1.0    Indianapolis  1586   46224    IN       1   \n",
       "84943   Foreclosure    0.0      Cincinnati  2536   45231    OH       1   \n",
       "148219       Active    0.0         Huntley     0   60142    IL       1   \n",
       "205315       Active    0.0         Huntley     0   60142    IL       1   \n",
       "\n",
       "        pool_encoded                Type Year built  Heating_encoded  \\\n",
       "15533          False  single_family_home       1940             True   \n",
       "25334          False  single_family_home       1957             True   \n",
       "84943          False                land       1865            False   \n",
       "148219         False                land    no date            False   \n",
       "205315         False                land    no date            False   \n",
       "\n",
       "        Cooling_encoded  Parking_encoded  fireplace_encoded  \\\n",
       "15533             False             True              False   \n",
       "25334              True             True               True   \n",
       "84943              True             True               True   \n",
       "148219            False            False              False   \n",
       "205315            False            False              False   \n",
       "\n",
       "        school_rating_mean  school_dist_min  \n",
       "15533                  2.3              0.2  \n",
       "25334                  1.5              0.2  \n",
       "84943                  2.0              0.5  \n",
       "148219                -1.0             -1.0  \n",
       "205315                 7.8              0.9  "
      ]
     },
     "metadata": {},
     "output_type": "display_data"
    },
    {
     "name": "stdout",
     "output_type": "stream",
     "text": [
      "Максимальное значение target:\n"
     ]
    },
    {
     "data": {
      "text/html": [
       "<div>\n",
       "<style scoped>\n",
       "    .dataframe tbody tr th:only-of-type {\n",
       "        vertical-align: middle;\n",
       "    }\n",
       "\n",
       "    .dataframe tbody tr th {\n",
       "        vertical-align: top;\n",
       "    }\n",
       "\n",
       "    .dataframe thead th {\n",
       "        text-align: right;\n",
       "    }\n",
       "</style>\n",
       "<table border=\"1\" class=\"dataframe\">\n",
       "  <thead>\n",
       "    <tr style=\"text-align: right;\">\n",
       "      <th></th>\n",
       "      <th>status</th>\n",
       "      <th>baths</th>\n",
       "      <th>city</th>\n",
       "      <th>sqft</th>\n",
       "      <th>zipcode</th>\n",
       "      <th>state</th>\n",
       "      <th>target</th>\n",
       "      <th>pool_encoded</th>\n",
       "      <th>Type</th>\n",
       "      <th>Year built</th>\n",
       "      <th>Heating_encoded</th>\n",
       "      <th>Cooling_encoded</th>\n",
       "      <th>Parking_encoded</th>\n",
       "      <th>fireplace_encoded</th>\n",
       "      <th>school_rating_mean</th>\n",
       "      <th>school_dist_min</th>\n",
       "    </tr>\n",
       "  </thead>\n",
       "  <tbody>\n",
       "    <tr>\n",
       "      <th>132407</th>\n",
       "      <td>For Sale</td>\n",
       "      <td>18.0</td>\n",
       "      <td>Los Angeles</td>\n",
       "      <td>0</td>\n",
       "      <td>90077</td>\n",
       "      <td>CA</td>\n",
       "      <td>195000000</td>\n",
       "      <td>True</td>\n",
       "      <td>single_family_home</td>\n",
       "      <td>1935</td>\n",
       "      <td>True</td>\n",
       "      <td>True</td>\n",
       "      <td>True</td>\n",
       "      <td>True</td>\n",
       "      <td>2.7</td>\n",
       "      <td>1.3</td>\n",
       "    </tr>\n",
       "  </tbody>\n",
       "</table>\n",
       "</div>"
      ],
      "text/plain": [
       "          status  baths         city  sqft zipcode state     target  \\\n",
       "132407  For Sale   18.0  Los Angeles     0   90077    CA  195000000   \n",
       "\n",
       "        pool_encoded                Type Year built  Heating_encoded  \\\n",
       "132407          True  single_family_home       1935             True   \n",
       "\n",
       "        Cooling_encoded  Parking_encoded  fireplace_encoded  \\\n",
       "132407             True             True               True   \n",
       "\n",
       "        school_rating_mean  school_dist_min  \n",
       "132407                 2.7              1.3  "
      ]
     },
     "metadata": {},
     "output_type": "display_data"
    }
   ],
   "source": [
    "# Удаляем все символы, кроме цифр, из столбца target\n",
    "data['target'] = data['target'].str.replace('[^0-9]', '', regex=True)\n",
    "# Преобразуем значения в целочисленный тип\n",
    "data['target'] = data['target'].astype(int)\n",
    "print(\"Значения в 'target' преобразованы в числовой формат.\")\n",
    "# Выводим минимальное и максимальное значения для проверки\n",
    "print(\"Минимальное значение target:\")\n",
    "display(data[data['target'] == data['target'].min()].head())\n",
    "print(\"Максимальное значение target:\")\n",
    "display(data[data['target'] == data['target'].max()].head())"
   ]
  },
  {
   "cell_type": "markdown",
   "id": "8508a5c8",
   "metadata": {},
   "source": [
    "После удаления лишних символов получены чистые числовые значения. Минимальное и максимальное значения можно просмотреть для оценки распределения."
   ]
  },
  {
   "cell_type": "code",
   "execution_count": 75,
   "id": "4679b7bd",
   "metadata": {},
   "outputs": [
    {
     "name": "stdout",
     "output_type": "stream",
     "text": [
      "Количество строк с target < 1000: 77\n",
      "Процент таких строк: 0.02%\n",
      "Строки с target < 1000 удалены.\n",
      "Минимальное значение target после удаления аномалий:\n"
     ]
    },
    {
     "data": {
      "text/html": [
       "<div>\n",
       "<style scoped>\n",
       "    .dataframe tbody tr th:only-of-type {\n",
       "        vertical-align: middle;\n",
       "    }\n",
       "\n",
       "    .dataframe tbody tr th {\n",
       "        vertical-align: top;\n",
       "    }\n",
       "\n",
       "    .dataframe thead th {\n",
       "        text-align: right;\n",
       "    }\n",
       "</style>\n",
       "<table border=\"1\" class=\"dataframe\">\n",
       "  <thead>\n",
       "    <tr style=\"text-align: right;\">\n",
       "      <th></th>\n",
       "      <th>status</th>\n",
       "      <th>baths</th>\n",
       "      <th>city</th>\n",
       "      <th>sqft</th>\n",
       "      <th>zipcode</th>\n",
       "      <th>state</th>\n",
       "      <th>target</th>\n",
       "      <th>pool_encoded</th>\n",
       "      <th>Type</th>\n",
       "      <th>Year built</th>\n",
       "      <th>Heating_encoded</th>\n",
       "      <th>Cooling_encoded</th>\n",
       "      <th>Parking_encoded</th>\n",
       "      <th>fireplace_encoded</th>\n",
       "      <th>school_rating_mean</th>\n",
       "      <th>school_dist_min</th>\n",
       "    </tr>\n",
       "  </thead>\n",
       "  <tbody>\n",
       "    <tr>\n",
       "      <th>1357</th>\n",
       "      <td>Foreclosure</td>\n",
       "      <td>2.0</td>\n",
       "      <td>Detroit</td>\n",
       "      <td>2544</td>\n",
       "      <td>48206</td>\n",
       "      <td>MI</td>\n",
       "      <td>1000</td>\n",
       "      <td>False</td>\n",
       "      <td>single_family_home</td>\n",
       "      <td>1914</td>\n",
       "      <td>True</td>\n",
       "      <td>False</td>\n",
       "      <td>True</td>\n",
       "      <td>False</td>\n",
       "      <td>3.2</td>\n",
       "      <td>0.79</td>\n",
       "    </tr>\n",
       "    <tr>\n",
       "      <th>1682</th>\n",
       "      <td>Other</td>\n",
       "      <td>2.0</td>\n",
       "      <td>Detroit</td>\n",
       "      <td>1572</td>\n",
       "      <td>48219</td>\n",
       "      <td>MI</td>\n",
       "      <td>1000</td>\n",
       "      <td>False</td>\n",
       "      <td>single_family_home</td>\n",
       "      <td>1940</td>\n",
       "      <td>True</td>\n",
       "      <td>False</td>\n",
       "      <td>True</td>\n",
       "      <td>False</td>\n",
       "      <td>1.0</td>\n",
       "      <td>0.70</td>\n",
       "    </tr>\n",
       "    <tr>\n",
       "      <th>2282</th>\n",
       "      <td>Foreclosure</td>\n",
       "      <td>2.0</td>\n",
       "      <td>Detroit</td>\n",
       "      <td>2048</td>\n",
       "      <td>48205</td>\n",
       "      <td>MI</td>\n",
       "      <td>1000</td>\n",
       "      <td>False</td>\n",
       "      <td>single_family_home</td>\n",
       "      <td>1925</td>\n",
       "      <td>True</td>\n",
       "      <td>False</td>\n",
       "      <td>True</td>\n",
       "      <td>False</td>\n",
       "      <td>2.9</td>\n",
       "      <td>1.08</td>\n",
       "    </tr>\n",
       "    <tr>\n",
       "      <th>2644</th>\n",
       "      <td>Foreclosure</td>\n",
       "      <td>2.0</td>\n",
       "      <td>Detroit</td>\n",
       "      <td>1827</td>\n",
       "      <td>48227</td>\n",
       "      <td>MI</td>\n",
       "      <td>1000</td>\n",
       "      <td>False</td>\n",
       "      <td>single_family_home</td>\n",
       "      <td>1928</td>\n",
       "      <td>True</td>\n",
       "      <td>False</td>\n",
       "      <td>True</td>\n",
       "      <td>False</td>\n",
       "      <td>2.9</td>\n",
       "      <td>0.56</td>\n",
       "    </tr>\n",
       "    <tr>\n",
       "      <th>2673</th>\n",
       "      <td>Active</td>\n",
       "      <td>0.0</td>\n",
       "      <td>Memphis</td>\n",
       "      <td>0</td>\n",
       "      <td>38106</td>\n",
       "      <td>TN</td>\n",
       "      <td>1000</td>\n",
       "      <td>False</td>\n",
       "      <td>other</td>\n",
       "      <td>no date</td>\n",
       "      <td>False</td>\n",
       "      <td>False</td>\n",
       "      <td>False</td>\n",
       "      <td>False</td>\n",
       "      <td>2.8</td>\n",
       "      <td>0.60</td>\n",
       "    </tr>\n",
       "  </tbody>\n",
       "</table>\n",
       "</div>"
      ],
      "text/plain": [
       "           status  baths     city  sqft zipcode state  target  pool_encoded  \\\n",
       "1357  Foreclosure    2.0  Detroit  2544   48206    MI    1000         False   \n",
       "1682        Other    2.0  Detroit  1572   48219    MI    1000         False   \n",
       "2282  Foreclosure    2.0  Detroit  2048   48205    MI    1000         False   \n",
       "2644  Foreclosure    2.0  Detroit  1827   48227    MI    1000         False   \n",
       "2673       Active    0.0  Memphis     0   38106    TN    1000         False   \n",
       "\n",
       "                    Type Year built  Heating_encoded  Cooling_encoded  \\\n",
       "1357  single_family_home       1914             True            False   \n",
       "1682  single_family_home       1940             True            False   \n",
       "2282  single_family_home       1925             True            False   \n",
       "2644  single_family_home       1928             True            False   \n",
       "2673               other    no date            False            False   \n",
       "\n",
       "      Parking_encoded  fireplace_encoded  school_rating_mean  school_dist_min  \n",
       "1357             True              False                 3.2             0.79  \n",
       "1682             True              False                 1.0             0.70  \n",
       "2282             True              False                 2.9             1.08  \n",
       "2644             True              False                 2.9             0.56  \n",
       "2673            False              False                 2.8             0.60  "
      ]
     },
     "metadata": {},
     "output_type": "display_data"
    }
   ],
   "source": [
    "# Подсчитываем количество строк, где target менее 1000\n",
    "anomaly_count = len(data[data['target'] < 1000])\n",
    "anomaly_percentage = (anomaly_count / len(data)) * 100\n",
    "print(f\"Количество строк с target < 1000: {anomaly_count}\")\n",
    "print(f\"Процент таких строк: {anomaly_percentage:.2f}%\")\n",
    "# Удаляем аномальные строки\n",
    "data = data.drop(data[data['target'] < 1000].index)\n",
    "print(\"Строки с target < 1000 удалены.\")\n",
    "# Проверяем минимальное значение после удаления\n",
    "print(\"Минимальное значение target после удаления аномалий:\")\n",
    "display(data[data['target'] == data['target'].min()].head())"
   ]
  },
  {
   "cell_type": "markdown",
   "id": "7a5ad876",
   "metadata": {},
   "source": [
    "Строк с отклонением (target < 1000) оказалось всего 77 (0.02% от общего числа). Такие строки удалены."
   ]
  },
  {
   "cell_type": "code",
   "execution_count": 76,
   "id": "51a5b4ac",
   "metadata": {},
   "outputs": [
    {
     "data": {
      "text/html": [
       "<div>\n",
       "<style scoped>\n",
       "    .dataframe tbody tr th:only-of-type {\n",
       "        vertical-align: middle;\n",
       "    }\n",
       "\n",
       "    .dataframe tbody tr th {\n",
       "        vertical-align: top;\n",
       "    }\n",
       "\n",
       "    .dataframe thead th {\n",
       "        text-align: right;\n",
       "    }\n",
       "</style>\n",
       "<table border=\"1\" class=\"dataframe\">\n",
       "  <thead>\n",
       "    <tr style=\"text-align: right;\">\n",
       "      <th></th>\n",
       "      <th>status</th>\n",
       "      <th>baths</th>\n",
       "      <th>city</th>\n",
       "      <th>sqft</th>\n",
       "      <th>zipcode</th>\n",
       "      <th>state</th>\n",
       "      <th>target</th>\n",
       "      <th>pool_encoded</th>\n",
       "      <th>Type</th>\n",
       "      <th>Year built</th>\n",
       "      <th>Heating_encoded</th>\n",
       "      <th>Cooling_encoded</th>\n",
       "      <th>Parking_encoded</th>\n",
       "      <th>fireplace_encoded</th>\n",
       "      <th>school_rating_mean</th>\n",
       "      <th>school_dist_min</th>\n",
       "    </tr>\n",
       "  </thead>\n",
       "  <tbody>\n",
       "    <tr>\n",
       "      <th>4</th>\n",
       "      <td>For Sale</td>\n",
       "      <td>0.0</td>\n",
       "      <td>Palm Bay</td>\n",
       "      <td>0</td>\n",
       "      <td>32908</td>\n",
       "      <td>FL</td>\n",
       "      <td>5000</td>\n",
       "      <td>False</td>\n",
       "      <td>land</td>\n",
       "      <td>no date</td>\n",
       "      <td>False</td>\n",
       "      <td>False</td>\n",
       "      <td>False</td>\n",
       "      <td>False</td>\n",
       "      <td>4.7</td>\n",
       "      <td>3.03</td>\n",
       "    </tr>\n",
       "    <tr>\n",
       "      <th>40</th>\n",
       "      <td>Active</td>\n",
       "      <td>0.0</td>\n",
       "      <td>Rotonda West</td>\n",
       "      <td>0</td>\n",
       "      <td>33947</td>\n",
       "      <td>FL</td>\n",
       "      <td>54000</td>\n",
       "      <td>False</td>\n",
       "      <td>other</td>\n",
       "      <td>no date</td>\n",
       "      <td>False</td>\n",
       "      <td>False</td>\n",
       "      <td>False</td>\n",
       "      <td>False</td>\n",
       "      <td>6.3</td>\n",
       "      <td>3.10</td>\n",
       "    </tr>\n",
       "    <tr>\n",
       "      <th>41</th>\n",
       "      <td>For Sale</td>\n",
       "      <td>0.0</td>\n",
       "      <td>San Diego</td>\n",
       "      <td>0</td>\n",
       "      <td>92127</td>\n",
       "      <td>CA</td>\n",
       "      <td>1100000</td>\n",
       "      <td>False</td>\n",
       "      <td>land</td>\n",
       "      <td>no date</td>\n",
       "      <td>False</td>\n",
       "      <td>False</td>\n",
       "      <td>False</td>\n",
       "      <td>False</td>\n",
       "      <td>9.0</td>\n",
       "      <td>0.97</td>\n",
       "    </tr>\n",
       "    <tr>\n",
       "      <th>42</th>\n",
       "      <td>Active</td>\n",
       "      <td>0.0</td>\n",
       "      <td>New York</td>\n",
       "      <td>0</td>\n",
       "      <td>10006</td>\n",
       "      <td>NY</td>\n",
       "      <td>850000</td>\n",
       "      <td>False</td>\n",
       "      <td>other</td>\n",
       "      <td>no date</td>\n",
       "      <td>False</td>\n",
       "      <td>False</td>\n",
       "      <td>False</td>\n",
       "      <td>False</td>\n",
       "      <td>7.0</td>\n",
       "      <td>0.10</td>\n",
       "    </tr>\n",
       "    <tr>\n",
       "      <th>48</th>\n",
       "      <td>Active</td>\n",
       "      <td>0.0</td>\n",
       "      <td>Signal Mountain</td>\n",
       "      <td>0</td>\n",
       "      <td>37377</td>\n",
       "      <td>TN</td>\n",
       "      <td>125000</td>\n",
       "      <td>False</td>\n",
       "      <td>other</td>\n",
       "      <td>no date</td>\n",
       "      <td>False</td>\n",
       "      <td>False</td>\n",
       "      <td>False</td>\n",
       "      <td>False</td>\n",
       "      <td>6.3</td>\n",
       "      <td>3.90</td>\n",
       "    </tr>\n",
       "  </tbody>\n",
       "</table>\n",
       "</div>"
      ],
      "text/plain": [
       "      status  baths             city  sqft zipcode state   target  \\\n",
       "4   For Sale    0.0         Palm Bay     0   32908    FL     5000   \n",
       "40    Active    0.0     Rotonda West     0   33947    FL    54000   \n",
       "41  For Sale    0.0        San Diego     0   92127    CA  1100000   \n",
       "42    Active    0.0         New York     0   10006    NY   850000   \n",
       "48    Active    0.0  Signal Mountain     0   37377    TN   125000   \n",
       "\n",
       "    pool_encoded   Type Year built  Heating_encoded  Cooling_encoded  \\\n",
       "4          False   land    no date            False            False   \n",
       "40         False  other    no date            False            False   \n",
       "41         False   land    no date            False            False   \n",
       "42         False  other    no date            False            False   \n",
       "48         False  other    no date            False            False   \n",
       "\n",
       "    Parking_encoded  fireplace_encoded  school_rating_mean  school_dist_min  \n",
       "4             False              False                 4.7             3.03  \n",
       "40            False              False                 6.3             3.10  \n",
       "41            False              False                 9.0             0.97  \n",
       "42            False              False                 7.0             0.10  \n",
       "48            False              False                 6.3             3.90  "
      ]
     },
     "metadata": {},
     "output_type": "display_data"
    },
    {
     "name": "stdout",
     "output_type": "stream",
     "text": [
      "Найдено 42012 строк с некорректными данными из 374081 общего числа строк (11.23%).\n"
     ]
    }
   ],
   "source": [
    "# Фильтрация строк, где значение 'baths' равно 0,\n",
    "# 'sqft' равно 0 и 'Year built' имеет значение 'no date'\n",
    "rows_without_useful_info = data[\n",
    "    (data['baths'] == 0) &\n",
    "    (data['sqft'] == 0) &\n",
    "    (data['Year built'] == 'no date')\n",
    "]\n",
    "# Вывод первых 5 строк для проверки\n",
    "display(rows_without_useful_info.head())\n",
    "# Подсчёт строк с некорректными данными и вычисление процента\n",
    "num_rows_invalid = len(rows_without_useful_info)\n",
    "total_rows = len(data)\n",
    "percentage_invalid = num_rows_invalid / total_rows * 100\n",
    "print(f\"Найдено {num_rows_invalid} строк с некорректными данными из {total_rows} общего числа строк \"\n",
    "      f\"({percentage_invalid:.2f}%).\")"
   ]
  },
  {
   "cell_type": "code",
   "execution_count": 77,
   "id": "c460348c",
   "metadata": {},
   "outputs": [
    {
     "data": {
      "text/html": [
       "<div>\n",
       "<style scoped>\n",
       "    .dataframe tbody tr th:only-of-type {\n",
       "        vertical-align: middle;\n",
       "    }\n",
       "\n",
       "    .dataframe tbody tr th {\n",
       "        vertical-align: top;\n",
       "    }\n",
       "\n",
       "    .dataframe thead th {\n",
       "        text-align: right;\n",
       "    }\n",
       "</style>\n",
       "<table border=\"1\" class=\"dataframe\">\n",
       "  <thead>\n",
       "    <tr style=\"text-align: right;\">\n",
       "      <th></th>\n",
       "      <th>status</th>\n",
       "      <th>baths</th>\n",
       "      <th>city</th>\n",
       "      <th>sqft</th>\n",
       "      <th>zipcode</th>\n",
       "      <th>state</th>\n",
       "      <th>target</th>\n",
       "      <th>pool_encoded</th>\n",
       "      <th>Type</th>\n",
       "      <th>Year built</th>\n",
       "      <th>Heating_encoded</th>\n",
       "      <th>Cooling_encoded</th>\n",
       "      <th>Parking_encoded</th>\n",
       "      <th>fireplace_encoded</th>\n",
       "      <th>school_rating_mean</th>\n",
       "      <th>school_dist_min</th>\n",
       "    </tr>\n",
       "  </thead>\n",
       "  <tbody>\n",
       "    <tr>\n",
       "      <th>0</th>\n",
       "      <td>Active</td>\n",
       "      <td>4.0</td>\n",
       "      <td>Southern Pines</td>\n",
       "      <td>2900</td>\n",
       "      <td>28387</td>\n",
       "      <td>NC</td>\n",
       "      <td>418000</td>\n",
       "      <td>False</td>\n",
       "      <td>single_family_home</td>\n",
       "      <td>2019</td>\n",
       "      <td>True</td>\n",
       "      <td>False</td>\n",
       "      <td>False</td>\n",
       "      <td>True</td>\n",
       "      <td>5.2</td>\n",
       "      <td>2.70</td>\n",
       "    </tr>\n",
       "    <tr>\n",
       "      <th>1</th>\n",
       "      <td>For Sale</td>\n",
       "      <td>3.0</td>\n",
       "      <td>Spokane Valley</td>\n",
       "      <td>1947</td>\n",
       "      <td>99216</td>\n",
       "      <td>WA</td>\n",
       "      <td>310000</td>\n",
       "      <td>False</td>\n",
       "      <td>single_family_home</td>\n",
       "      <td>2019</td>\n",
       "      <td>False</td>\n",
       "      <td>False</td>\n",
       "      <td>False</td>\n",
       "      <td>False</td>\n",
       "      <td>4.0</td>\n",
       "      <td>1.01</td>\n",
       "    </tr>\n",
       "    <tr>\n",
       "      <th>2</th>\n",
       "      <td>For Sale</td>\n",
       "      <td>2.0</td>\n",
       "      <td>Los Angeles</td>\n",
       "      <td>3000</td>\n",
       "      <td>90049</td>\n",
       "      <td>CA</td>\n",
       "      <td>2895000</td>\n",
       "      <td>True</td>\n",
       "      <td>single_family_home</td>\n",
       "      <td>1961</td>\n",
       "      <td>True</td>\n",
       "      <td>True</td>\n",
       "      <td>True</td>\n",
       "      <td>True</td>\n",
       "      <td>6.7</td>\n",
       "      <td>1.19</td>\n",
       "    </tr>\n",
       "    <tr>\n",
       "      <th>3</th>\n",
       "      <td>For Sale</td>\n",
       "      <td>8.0</td>\n",
       "      <td>Dallas</td>\n",
       "      <td>6457</td>\n",
       "      <td>75205</td>\n",
       "      <td>TX</td>\n",
       "      <td>2395000</td>\n",
       "      <td>False</td>\n",
       "      <td>single_family_home</td>\n",
       "      <td>2006</td>\n",
       "      <td>True</td>\n",
       "      <td>True</td>\n",
       "      <td>True</td>\n",
       "      <td>True</td>\n",
       "      <td>5.6</td>\n",
       "      <td>0.10</td>\n",
       "    </tr>\n",
       "    <tr>\n",
       "      <th>5</th>\n",
       "      <td>For Sale</td>\n",
       "      <td>0.0</td>\n",
       "      <td>Philadelphia</td>\n",
       "      <td>897</td>\n",
       "      <td>19145</td>\n",
       "      <td>PA</td>\n",
       "      <td>209000</td>\n",
       "      <td>False</td>\n",
       "      <td>townhouse</td>\n",
       "      <td>1920</td>\n",
       "      <td>True</td>\n",
       "      <td>True</td>\n",
       "      <td>False</td>\n",
       "      <td>False</td>\n",
       "      <td>-1.0</td>\n",
       "      <td>-1.00</td>\n",
       "    </tr>\n",
       "  </tbody>\n",
       "</table>\n",
       "</div>"
      ],
      "text/plain": [
       "     status  baths            city  sqft zipcode state   target  pool_encoded  \\\n",
       "0    Active    4.0  Southern Pines  2900   28387    NC   418000         False   \n",
       "1  For Sale    3.0  Spokane Valley  1947   99216    WA   310000         False   \n",
       "2  For Sale    2.0     Los Angeles  3000   90049    CA  2895000          True   \n",
       "3  For Sale    8.0          Dallas  6457   75205    TX  2395000         False   \n",
       "5  For Sale    0.0    Philadelphia   897   19145    PA   209000         False   \n",
       "\n",
       "                 Type Year built  Heating_encoded  Cooling_encoded  \\\n",
       "0  single_family_home       2019             True            False   \n",
       "1  single_family_home       2019            False            False   \n",
       "2  single_family_home       1961             True             True   \n",
       "3  single_family_home       2006             True             True   \n",
       "5           townhouse       1920             True             True   \n",
       "\n",
       "   Parking_encoded  fireplace_encoded  school_rating_mean  school_dist_min  \n",
       "0            False               True                 5.2             2.70  \n",
       "1            False              False                 4.0             1.01  \n",
       "2             True               True                 6.7             1.19  \n",
       "3             True               True                 5.6             0.10  \n",
       "5            False              False                -1.0            -1.00  "
      ]
     },
     "metadata": {},
     "output_type": "display_data"
    },
    {
     "name": "stdout",
     "output_type": "stream",
     "text": [
      "<class 'pandas.core.frame.DataFrame'>\n",
      "Index: 332069 entries, 0 to 377043\n",
      "Data columns (total 16 columns):\n",
      " #   Column              Non-Null Count   Dtype  \n",
      "---  ------              --------------   -----  \n",
      " 0   status              332069 non-null  object \n",
      " 1   baths               332069 non-null  float64\n",
      " 2   city                332060 non-null  object \n",
      " 3   sqft                332069 non-null  int32  \n",
      " 4   zipcode             332069 non-null  object \n",
      " 5   state               332069 non-null  object \n",
      " 6   target              332069 non-null  int32  \n",
      " 7   pool_encoded        332069 non-null  bool   \n",
      " 8   Type                332069 non-null  object \n",
      " 9   Year built          332069 non-null  object \n",
      " 10  Heating_encoded     332069 non-null  bool   \n",
      " 11  Cooling_encoded     332069 non-null  bool   \n",
      " 12  Parking_encoded     332069 non-null  bool   \n",
      " 13  fireplace_encoded   332069 non-null  bool   \n",
      " 14  school_rating_mean  332069 non-null  float64\n",
      " 15  school_dist_min     332069 non-null  float64\n",
      "dtypes: bool(5), float64(3), int32(2), object(6)\n",
      "memory usage: 29.5+ MB\n"
     ]
    }
   ],
   "source": [
    "# Удаление строк, не содержащих полезной информации для прогноза\n",
    "data = data[\n",
    "    ~((data['baths'] == 0) &\n",
    "      (data['sqft'] == 0) &\n",
    "      (data['Year built'] == 'no date'))\n",
    "]\n",
    "# Вывод первых строк очищенного DataFrame\n",
    "display(data.head())\n",
    "# Получение общей информации о DataFrame\n",
    "data.info()"
   ]
  },
  {
   "cell_type": "code",
   "execution_count": 78,
   "id": "0d480bf6",
   "metadata": {},
   "outputs": [
    {
     "name": "stdout",
     "output_type": "stream",
     "text": [
      "Данные успешно сохранены в 'data/cleaned_data.csv'.\n"
     ]
    }
   ],
   "source": [
    "# Сохранение предобработанных данных в CSV файл без записи индексов\n",
    "data.to_csv(\"data/cleaned_data.csv\", index=False)\n",
    "print(\"Данные успешно сохранены в 'data/cleaned_data.csv'.\")"
   ]
  }
 ],
 "metadata": {
  "kernelspec": {
   "display_name": "Python 3",
   "language": "python",
   "name": "python3"
  },
  "language_info": {
   "codemirror_mode": {
    "name": "ipython",
    "version": 3
   },
   "file_extension": ".py",
   "mimetype": "text/x-python",
   "name": "python",
   "nbconvert_exporter": "python",
   "pygments_lexer": "ipython3",
   "version": "3.12.1"
  }
 },
 "nbformat": 4,
 "nbformat_minor": 5
}
